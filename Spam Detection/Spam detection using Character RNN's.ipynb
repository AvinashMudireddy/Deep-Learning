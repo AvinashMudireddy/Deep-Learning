{
  "nbformat": 4,
  "nbformat_minor": 0,
  "metadata": {
    "colab": {
      "name": "Copy of LAB_4_Sequential_Data.ipynb",
      "provenance": [],
      "collapsed_sections": []
    },
    "kernelspec": {
      "name": "python3",
      "display_name": "Python 3"
    },
    "language_info": {
      "name": "python"
    },
    "accelerator": "GPU"
  },
  "cells": [
    {
      "cell_type": "markdown",
      "metadata": {
        "id": "fFMdtipUPNdu"
      },
      "source": [
        "# Spam detection using Character RNN's"
      ]
    },
    {
      "cell_type": "code",
      "metadata": {
        "id": "HgfNOUaPa9z8"
      },
      "source": [
        "import torch\n",
        "import torch.nn as nn\n",
        "import torch.nn.functional as F\n",
        "import torch.optim as optim\n",
        "import numpy as np\n",
        "import matplotlib.pyplot as plt\n",
        "import random\n",
        "torch.backends.cudnn.deterministic = True"
      ],
      "execution_count": null,
      "outputs": []
    },
    {
      "cell_type": "code",
      "metadata": {
        "colab": {
          "base_uri": "https://localhost:8080/"
        },
        "id": "leXv9yFxR6s6",
        "outputId": "ae7ff864-e57d-4756-9a66-983f07ab4918"
      },
      "source": [
        "torch.seed()"
      ],
      "execution_count": null,
      "outputs": [
        {
          "output_type": "execute_result",
          "data": {
            "text/plain": [
              "17812487932005069803"
            ]
          },
          "metadata": {},
          "execution_count": 2
        }
      ]
    },
    {
      "cell_type": "code",
      "metadata": {
        "id": "I_IfXHeTa90F",
        "colab": {
          "base_uri": "https://localhost:8080/"
        },
        "outputId": "4ab544d7-b246-493a-d6b7-d9a64de35910"
      },
      "source": [
        "f = open('/content/SMSSpamCollection')\n",
        "for _ in range(5):\n",
        "  line = f.readline()\n",
        "  print(line)"
      ],
      "execution_count": null,
      "outputs": [
        {
          "output_type": "stream",
          "name": "stdout",
          "text": [
            "ham\tGo until jurong point, crazy.. Available only in bugis n great world la e buffet... Cine there got amore wat...\n",
            "\n",
            "ham\tOk lar... Joking wif u oni...\n",
            "\n",
            "spam\tFree entry in 2 a wkly comp to win FA Cup final tkts 21st May 2005. Text FA to 87121 to receive entry question(std txt rate)T&C's apply 08452810075over18's\n",
            "\n",
            "ham\tU dun say so early hor... U c already then say...\n",
            "\n",
            "ham\tNah I don't think he goes to usf, he lives around here though\n",
            "\n"
          ]
        }
      ]
    },
    {
      "cell_type": "code",
      "metadata": {
        "id": "LgsqyemVa90e",
        "colab": {
          "base_uri": "https://localhost:8080/"
        },
        "outputId": "621354e4-39a4-4043-922c-0b53b89a03e7"
      },
      "source": [
        "for line in open('SMSSpamCollection'):\n",
        "    if 'ham' in line:\n",
        "      print(line)\n",
        "      break\n",
        "for line in open('SMSSpamCollection'):\n",
        "    if 'spam' in line:\n",
        "      print(line)\n",
        "      break"
      ],
      "execution_count": null,
      "outputs": [
        {
          "output_type": "stream",
          "name": "stdout",
          "text": [
            "ham\tGo until jurong point, crazy.. Available only in bugis n great world la e buffet... Cine there got amore wat...\n",
            "\n",
            "spam\tFree entry in 2 a wkly comp to win FA Cup final tkts 21st May 2005. Text FA to 87121 to receive entry question(std txt rate)T&C's apply 08452810075over18's\n",
            "\n"
          ]
        }
      ]
    },
    {
      "cell_type": "code",
      "metadata": {
        "colab": {
          "base_uri": "https://localhost:8080/"
        },
        "id": "X-6tafS6SSAN",
        "outputId": "e0c9fd69-cbef-48b9-e5cb-4bc80c1349a4"
      },
      "source": [
        "ham = 0\n",
        "spam = 0\n",
        "\n",
        "for line in open('SMSSpamCollection'):\n",
        "  if line[:3] == 'ham':\n",
        "    ham += 1\n",
        "  if line[:3] == 'spa':\n",
        "    spam += 1\n",
        "print('Ham Count: {}, Spam Count: {}'.format(ham,spam))"
      ],
      "execution_count": null,
      "outputs": [
        {
          "output_type": "stream",
          "name": "stdout",
          "text": [
            "Ham Count: 4827, Spam Count: 747\n"
          ]
        }
      ]
    },
    {
      "cell_type": "code",
      "metadata": {
        "id": "P_Y6Puz9a90l"
      },
      "source": [
        "import torchtext\n",
        "\n",
        "text_field = torchtext.legacy.data.Field(sequential=True,      # text sequence\n",
        "                                  tokenize=lambda x: x, # because are building a character-RNN\n",
        "                                  include_lengths=True, # to track the length of sequences, for batching\n",
        "                                  batch_first=True,\n",
        "                                  use_vocab=True)       # to turn each character into an integer index\n",
        "label_field = torchtext.legacy.data.Field(sequential=False,    # not a sequence\n",
        "                                   use_vocab=False,     # don't need to track vocabulary\n",
        "                                   is_target=True,      \n",
        "                                   batch_first=True,\n",
        "                                   preprocessing=lambda x: int(x == 'spam')) # convert text to 0 and 1\n",
        "\n",
        "fields = [('label', label_field), ('sms', text_field)]\n",
        "dataset = torchtext.legacy.data.TabularDataset(\"SMSSpamCollection\", # name of the file\n",
        "                                        \"tsv\",               # fields are separated by a tab\n",
        "                                        fields)\n",
        "\n",
        "# dataset[0].sms\n",
        "# dataset[0].label\n",
        "train, valid, test = dataset.split(split_ratio = [0.6,0.2,0.2])"
      ],
      "execution_count": null,
      "outputs": []
    },
    {
      "cell_type": "code",
      "metadata": {
        "id": "FWvx9_rka90p"
      },
      "source": [
        "# save the original training examples\n",
        "old_train_examples = train.examples\n",
        "# get all the spam messages in `train`\n",
        "train_spam = []\n",
        "for item in train.examples:\n",
        "    if item.label == 1:\n",
        "        train_spam.append(item)\n",
        "# duplicate each spam message 6 more times\n",
        "train.examples = old_train_examples + train_spam * 6"
      ],
      "execution_count": null,
      "outputs": []
    },
    {
      "cell_type": "code",
      "metadata": {
        "id": "8CQM8flKa90s"
      },
      "source": [
        "text_field.build_vocab(train)\n",
        "#text_field.vocab.stoi\n",
        "#text_field.vocab.itos"
      ],
      "execution_count": null,
      "outputs": []
    },
    {
      "cell_type": "code",
      "metadata": {
        "id": "V8N8qLWOa90y"
      },
      "source": [
        "train_iter = torchtext.legacy.data.BucketIterator(train,\n",
        "                                           batch_size=32,\n",
        "                                           sort_key=lambda x: len(x.sms), # to minimize padding\n",
        "                                           sort_within_batch=True,        # sort within each batch\n",
        "                                           repeat=False)                  # repeat the iterator for many epochs"
      ],
      "execution_count": null,
      "outputs": []
    },
    {
      "cell_type": "code",
      "metadata": {
        "id": "Qwz-rOaha902",
        "colab": {
          "base_uri": "https://localhost:8080/"
        },
        "outputId": "a2a5f517-dfc6-4675-862b-7d40fe6f24a4"
      },
      "source": [
        "i = 0\n",
        "input_length = [0]*10 \n",
        "num_pads = [0]*10 \n",
        "\n",
        "for batch in train_iter:\n",
        "  if i < 10:\n",
        "    for text in batch.sms[0]:\n",
        "      input_length[i] = len(text) #max(batch.sms[1])\n",
        "      for char in text:\n",
        "        if char == text_field.vocab.stoi[\"<pad>\"]:\n",
        "          num_pads[i] += 1\n",
        "    i += 1        \n",
        "\n",
        "print('Maximum lengths of input sequence in each batch:',input_length)\n",
        "print('Number of pad tokens used in each batch:',num_pads)"
      ],
      "execution_count": null,
      "outputs": [
        {
          "output_type": "stream",
          "name": "stdout",
          "text": [
            "Maximum lengths of input sequence in each batch: [76, 85, 29, 72, 38, 166, 223, 82, 153, 50]\n",
            "Number of pad tokens used in each batch: [49, 31, 27, 27, 4, 37, 907, 39, 0, 24]\n"
          ]
        }
      ]
    },
    {
      "cell_type": "code",
      "metadata": {
        "id": "jHl1p_Wwa905",
        "colab": {
          "base_uri": "https://localhost:8080/"
        },
        "outputId": "7b2bbb62-3a2c-4177-c06f-d23cc577fbd7"
      },
      "source": [
        "# You might find this code helpful for obtaining\n",
        "# PyTorch one-hot vectors.\n",
        "\n",
        "ident = torch.eye(10)\n",
        "print(ident[0]) # one-hot vector\n",
        "print(ident[1]) # one-hot vector\n",
        "x = torch.tensor([[1, 2], [3, 4]])\n",
        "print(ident[x]) # one-hot vectors"
      ],
      "execution_count": null,
      "outputs": [
        {
          "output_type": "stream",
          "name": "stdout",
          "text": [
            "tensor([1., 0., 0., 0., 0., 0., 0., 0., 0., 0.])\n",
            "tensor([0., 1., 0., 0., 0., 0., 0., 0., 0., 0.])\n",
            "tensor([[[0., 1., 0., 0., 0., 0., 0., 0., 0., 0.],\n",
            "         [0., 0., 1., 0., 0., 0., 0., 0., 0., 0.]],\n",
            "\n",
            "        [[0., 0., 0., 1., 0., 0., 0., 0., 0., 0.],\n",
            "         [0., 0., 0., 0., 1., 0., 0., 0., 0., 0.]]])\n"
          ]
        }
      ]
    },
    {
      "cell_type": "markdown",
      "source": [
        "## RNN model"
      ],
      "metadata": {
        "id": "3GoLnHm2w5Nq"
      }
    },
    {
      "cell_type": "code",
      "metadata": {
        "id": "4LTQ7zFka909"
      },
      "source": [
        "class RNN(nn.Module):\n",
        "  def __init__(self, input_size, hidden_size,out_type = 2):\n",
        "    super(RNN, self).__init__()\n",
        "    self.emb = torch.eye(input_size)\n",
        "    self.hidden_size = hidden_size\n",
        "    self.out_type = out_type\n",
        "    self.name = 'RNN'\n",
        "    self.rnn = nn.RNN(input_size,hidden_size,batch_first=True)\n",
        "    self.fc = nn.Linear(hidden_size,2)\n",
        "\n",
        "  def forward(self,input):\n",
        "\n",
        "    input = self.emb[input]\n",
        "    #print(input[0][0])\n",
        "    h0 = torch.zeros(1,input.size(0),self.hidden_size)\n",
        "    out, _ = self.rnn(input, h0)\n",
        "\n",
        "    if self.out_type == 1:\n",
        "      out = self.fc(out[:,-1,:])\n",
        "      return out\n",
        "    if self.out_type == 2:\n",
        "      out = self.fc(torch.max(out, dim=1)[0])\n",
        "      return out\n",
        "    if self.out_type == 3:\n",
        "      out = torch.cat([torch.max(out, dim=1)[0], torch.mean(out, dim=1)], dim=1)\n",
        "      return out"
      ],
      "execution_count": null,
      "outputs": []
    },
    {
      "cell_type": "code",
      "metadata": {
        "id": "pvNfhGD6a91A"
      },
      "source": [
        "def get_accuracy(model, valid,criterion, isvalid = False):\n",
        "\n",
        "    correct = 0\n",
        "    total = 0\n",
        "    n = 0\n",
        "    total_loss = 0\n",
        "    for data in valid:\n",
        "        \n",
        "        output = model(data.sms[0])\n",
        "        pred = output.max(1, keepdim=True)[1]\n",
        "        correct += pred.eq(data.label.view_as(pred)).sum().item()\n",
        "        total += data.label.shape[0]\n",
        "\n",
        "        if isvalid:\n",
        "          loss = criterion(output,data.label)\n",
        "          total_loss += loss.item()\n",
        "          n += 1\n",
        "    return (float(correct / total),(float(total_loss)/(n+1)) )if isvalid else float(correct / total)"
      ],
      "execution_count": null,
      "outputs": []
    },
    {
      "cell_type": "code",
      "metadata": {
        "id": "VgKGULnDTKho"
      },
      "source": [
        "# def val_loss(model, valid, criterion):\n",
        "#   n = 0\n",
        "#   total_loss = 0\n",
        "#   for data in valid:\n",
        "#     output = model(data.sms[0])\n",
        "#     loss = criterion(output, data.label)\n",
        "#     total_loss += loss.item()\n",
        "#     n += 1\n",
        "#   vloss = float(total_loss)/(n+1)\n",
        "#   return vloss"
      ],
      "execution_count": null,
      "outputs": []
    },
    {
      "cell_type": "code",
      "metadata": {
        "id": "CVtf7CJCa91D"
      },
      "source": [
        "def train_rnn_network(model,train,valid,num_epochs = 5,batch_size = 32,learning_rate = 1e-5,visualize = False):\n",
        "\n",
        "    criterion = nn.CrossEntropyLoss()\n",
        "    optimizer = optim.Adam(model.parameters(), lr=learning_rate)\n",
        "\n",
        "    train_acc,val_acc,valid_loss = np.zeros(num_epochs),np.zeros(num_epochs),np.zeros(num_epochs)\n",
        "    iters,losses = [], []\n",
        "\n",
        "    n = 0\n",
        "\n",
        "    print('Loading Data...')\n",
        "    train_iter = torchtext.legacy.data.BucketIterator(train,\n",
        "                                           batch_size=batch_size,\n",
        "                                           sort_key=lambda x: len(x.sms), # to minimize padding\n",
        "                                           sort_within_batch=True,        # sort within each batch\n",
        "                                           repeat=False)                  # repeat the iterator for many epochs\n",
        "    valid_iter = torchtext.legacy.data.BucketIterator(valid,\n",
        "                                           batch_size=batch_size,\n",
        "                                           sort_key=lambda x: len(x.sms), # to minimize padding\n",
        "                                           sort_within_batch=True,        # sort within each batch\n",
        "                                           repeat=False)                  # repeat the iterator for many epochs\n",
        "    print('Data Loaded...')                                           \n",
        "    for epoch in range(num_epochs):\n",
        "\n",
        "        for data in iter(train_iter):\n",
        "\n",
        "            out = model(data.sms[0])             # forward pass\n",
        "            loss = criterion(out, data.label) # compute the total loss\n",
        "            loss.backward()               # backward pass (compute parameter updates)\n",
        "            optimizer.step()              # make the updates for each parameter\n",
        "            optimizer.zero_grad()         # a clean up step for PyTorch\n",
        "            n += 1          \n",
        "\n",
        "        # save the current training information\n",
        "        iters.append(n)\n",
        "\n",
        "        losses.append(float(loss)/batch_size)   # compute *average* loss\n",
        "\n",
        "        # track accuracy\n",
        "        train_acc[epoch] = get_accuracy(model, train_iter,criterion=criterion)\n",
        "        val_acc[epoch],valid_loss[epoch] = get_accuracy(model,valid_iter,\n",
        "                                                        criterion = criterion,\n",
        "                                                        isvalid=True)\n",
        "\n",
        "        print((\"Epoch : {}/{} , Training acc: {} ,Training loss: {},\\\n",
        "         || Validation acc: {}  , Validation loss: {}\").format(epoch+1,\n",
        "                                                               num_epochs,\n",
        "                                                               train_acc[epoch],\n",
        "                                                               losses[-1],\n",
        "                                                               val_acc[epoch],\n",
        "                                                               valid_loss[epoch]))\n",
        "        print((\"\").format())\n",
        "\n",
        "        model_path = \"{}_epoch_{}\".format(model.name,epoch+1)\n",
        "        torch.save(model.state_dict(), model_path)\n",
        "\n",
        "    if visualize:\n",
        "      #plotting loss\n",
        "      plt.title(\"Training Curve\")\n",
        "      plt.plot(iters, losses, label=\"Train\")\n",
        "      plt.plot(iters,valid_loss,label = 'Valid')\n",
        "      plt.xlabel(\"Iterations\")\n",
        "      plt.ylabel(\"Loss\")\n",
        "      plt.legend(loc='best')\n",
        "      plt.show()\n",
        "      \n",
        "      #plotting accuracy\n",
        "      plt.title(\"Training Curve\")\n",
        "      plt.plot(iters, train_acc, label=\"Train\")\n",
        "      plt.plot(iters, val_acc, label=\"Validation\")\n",
        "      plt.xlabel(\"Iterations\")\n",
        "      plt.ylabel(\"Training Accuracy\")\n",
        "      plt.legend(loc='best')\n",
        "      plt.show()\n",
        "\n",
        "    print(\"Final Training Accuracy: {}\".format(train_acc[-1]))\n",
        "    print(\"Final Validation Accuracy: {}\".format(val_acc[-1]))"
      ],
      "execution_count": null,
      "outputs": []
    },
    {
      "cell_type": "code",
      "metadata": {
        "colab": {
          "base_uri": "https://localhost:8080/",
          "height": 1000
        },
        "id": "-UcKz3vgTS20",
        "outputId": "4ac6a15b-43fb-4a99-efed-dd1d169fae79"
      },
      "source": [
        "model_1 = RNN(input_size = len(text_field.vocab),hidden_size = 10)\n",
        "train_rnn_network(model_1, train, valid,num_epochs=30, learning_rate=1e-3, visualize = True)"
      ],
      "execution_count": null,
      "outputs": [
        {
          "output_type": "stream",
          "name": "stdout",
          "text": [
            "Loading Data...\n",
            "Data Loaded...\n",
            "Epoch : 1/30 , Training acc: 0.8242142025611175 ,Training loss: 0.020420445129275322, || Validation acc: 0.6852017937219731  , Validation loss: 0.6475568463404974\n",
            "\n",
            "Epoch : 2/30 , Training acc: 0.9402960252785632 ,Training loss: 0.009199853986501694, || Validation acc: 0.9291479820627803  , Validation loss: 0.32263556702269447\n",
            "\n",
            "Epoch : 3/30 , Training acc: 0.9574255779145185 ,Training loss: 0.006972815375775099, || Validation acc: 0.9452914798206278  , Validation loss: 0.19669582549896505\n",
            "\n",
            "Epoch : 4/30 , Training acc: 0.9565940462331615 ,Training loss: 0.003512126859277487, || Validation acc: 0.9443946188340807  , Validation loss: 0.19089397684567505\n",
            "\n",
            "Epoch : 5/30 , Training acc: 0.9682354897721603 ,Training loss: 0.0018474900862202048, || Validation acc: 0.9605381165919282  , Validation loss: 0.13594922702759504\n",
            "\n",
            "Epoch : 6/30 , Training acc: 0.9723931481789456 ,Training loss: 0.0014614673564210534, || Validation acc: 0.967713004484305  , Validation loss: 0.11227627450393306\n",
            "\n",
            "Epoch : 7/30 , Training acc: 0.973390986196574 ,Training loss: 0.001960383029654622, || Validation acc: 0.9515695067264573  , Validation loss: 0.15545699507411984\n",
            "\n",
            "Epoch : 8/30 , Training acc: 0.9827041410277731 ,Training loss: 0.006519613787531853, || Validation acc: 0.968609865470852  , Validation loss: 0.09861373446053928\n",
            "\n",
            "Epoch : 9/30 , Training acc: 0.9780475636121736 ,Training loss: 0.0009560640319250524, || Validation acc: 0.957847533632287  , Validation loss: 0.1317490884102881\n",
            "\n",
            "Epoch : 10/30 , Training acc: 0.9845335107267587 ,Training loss: 0.0006562363705597818, || Validation acc: 0.9650224215246637  , Validation loss: 0.10115979037558039\n",
            "\n",
            "Epoch : 11/30 , Training acc: 0.98586396141693 ,Training loss: 0.0013025884982198477, || Validation acc: 0.9757847533632287  , Validation loss: 0.08797305731827186\n",
            "\n",
            "Epoch : 12/30 , Training acc: 0.9817063030101447 ,Training loss: 0.0002518920518923551, || Validation acc: 0.957847533632287  , Validation loss: 0.12642552623421782\n",
            "\n",
            "Epoch : 13/30 , Training acc: 0.9880259437884583 ,Training loss: 0.003784259781241417, || Validation acc: 0.9721973094170404  , Validation loss: 0.09280469809244904\n",
            "\n",
            "Epoch : 14/30 , Training acc: 0.9871944121071012 ,Training loss: 0.0024279700592160225, || Validation acc: 0.9721973094170404  , Validation loss: 0.09395787018972139\n",
            "\n",
            "Epoch : 15/30 , Training acc: 0.9893563944786297 ,Training loss: 0.0015036555705592036, || Validation acc: 0.97847533632287  , Validation loss: 0.08015320671256632\n",
            "\n",
            "Epoch : 16/30 , Training acc: 0.98586396141693 ,Training loss: 0.010136593133211136, || Validation acc: 0.9614349775784753  , Validation loss: 0.11093951500434843\n",
            "\n",
            "Epoch : 17/30 , Training acc: 0.9875270247796442 ,Training loss: 0.000782475748565048, || Validation acc: 0.9668161434977578  , Validation loss: 0.10064456927486592\n",
            "\n",
            "Epoch : 18/30 , Training acc: 0.9920172958589722 ,Training loss: 0.0029979730024933815, || Validation acc: 0.979372197309417  , Validation loss: 0.07957947630590449\n",
            "\n",
            "Epoch : 19/30 , Training acc: 0.9918509895227008 ,Training loss: 0.00022337764676194638, || Validation acc: 0.9775784753363229  , Validation loss: 0.080835876119737\n",
            "\n",
            "Epoch : 20/30 , Training acc: 0.9905205388325296 ,Training loss: 0.0001715145044727251, || Validation acc: 0.967713004484305  , Validation loss: 0.09676139008822954\n",
            "\n",
            "Epoch : 21/30 , Training acc: 0.9921836021952436 ,Training loss: 0.0007639155955985188, || Validation acc: 0.9739910313901345  , Validation loss: 0.08425181718646652\n",
            "\n",
            "Epoch : 22/30 , Training acc: 0.9893563944786297 ,Training loss: 9.016282274387777e-05, || Validation acc: 0.967713004484305  , Validation loss: 0.1015308656108876\n",
            "\n",
            "Epoch : 23/30 , Training acc: 0.9925162148677865 ,Training loss: 8.484397403663024e-05, || Validation acc: 0.9721973094170404  , Validation loss: 0.08702304841588354\n",
            "\n",
            "Epoch : 24/30 , Training acc: 0.9898553134874438 ,Training loss: 0.00020413100719451904, || Validation acc: 0.9802690582959641  , Validation loss: 0.08062386907274938\n",
            "\n",
            "Epoch : 25/30 , Training acc: 0.9931814402128721 ,Training loss: 0.00016816522111184895, || Validation acc: 0.979372197309417  , Validation loss: 0.0809355827449407\n",
            "\n",
            "Epoch : 26/30 , Training acc: 0.9933477465491435 ,Training loss: 0.0001294571702601388, || Validation acc: 0.9802690582959641  , Validation loss: 0.07924309099972662\n",
            "\n",
            "Epoch : 27/30 , Training acc: 0.9948445035755862 ,Training loss: 0.00010779135482152924, || Validation acc: 0.979372197309417  , Validation loss: 0.08049512478626436\n",
            "\n",
            "Epoch : 28/30 , Training acc: 0.9946781972393148 ,Training loss: 0.0005100477137602866, || Validation acc: 0.9757847533632287  , Validation loss: 0.08405104134645727\n",
            "\n",
            "Epoch : 29/30 , Training acc: 0.9938466655579578 ,Training loss: 6.378127000061795e-05, || Validation acc: 0.9811659192825112  , Validation loss: 0.08019035616760245\n",
            "\n",
            "Epoch : 30/30 , Training acc: 0.9901879261599867 ,Training loss: 8.462124969810247e-05, || Validation acc: 0.9668161434977578  , Validation loss: 0.10790818583660035\n",
            "\n"
          ]
        },
        {
          "output_type": "display_data",
          "data": {
            "image/png": "[encoded data removed]",
            "text/plain": [
              "<Figure size 432x288 with 1 Axes>"
            ]
          },
          "metadata": {
            "needs_background": "light"
          }
        },
        {
          "output_type": "display_data",
          "data": {
            "image/png": "[encoded data removed]",
            "text/plain": [
              "<Figure size 432x288 with 1 Axes>"
            ]
          },
          "metadata": {
            "needs_background": "light"
          }
        },
        {
          "output_type": "stream",
          "name": "stdout",
          "text": [
            "Final Training Accuracy: 0.9901879261599867\n",
            "Final Validation Accuracy: 0.9668161434977578\n"
          ]
        }
      ]
    },
    {
      "cell_type": "markdown",
      "metadata": {
        "id": "LrNz6LlIltrM"
      },
      "source": [
        "### Hyperparameter tuning\n"
      ]
    },
    {
      "cell_type": "code",
      "metadata": {
        "id": "A2GEWfDca91G",
        "colab": {
          "base_uri": "https://localhost:8080/"
        },
        "outputId": "ca5810d4-d1a3-4f8f-9a6c-566b5dfa9e7a"
      },
      "source": [
        "model_2 = RNN(input_size = len(text_field.vocab),hidden_size = 10, out_type = 1)\n",
        "model_2.name = 'model_2'\n",
        "train_rnn_network(model_2, train, valid,num_epochs=10, learning_rate=1e-3)"
      ],
      "execution_count": null,
      "outputs": [
        {
          "output_type": "stream",
          "name": "stdout",
          "text": [
            "Loading Data...\n",
            "Data Loaded...\n",
            "Epoch : 1/10 , Training acc: 0.6885082321636454 ,Training loss: 0.02033305913209915, || Validation acc: 0.736322869955157  , Validation loss: 0.6444610837433074\n",
            "\n",
            "Epoch : 2/10 , Training acc: 0.9053716946615666 ,Training loss: 0.005759681109338999, || Validation acc: 0.9291479820627803  , Validation loss: 0.26101694338851505\n",
            "\n",
            "Epoch : 3/10 , Training acc: 0.8637951105937136 ,Training loss: 0.021474722772836685, || Validation acc: 0.9372197309417041  , Validation loss: 0.2380759751217233\n",
            "\n",
            "Epoch : 4/10 , Training acc: 0.9249958423415933 ,Training loss: 0.016875408589839935, || Validation acc: 0.9695067264573991  , Validation loss: 0.1646513988574346\n",
            "\n",
            "Epoch : 5/10 , Training acc: 0.9293198070846499 ,Training loss: 0.005058414302766323, || Validation acc: 0.9650224215246637  , Validation loss: 0.1695484309974644\n",
            "\n",
            "Epoch : 6/10 , Training acc: 0.8494927656743722 ,Training loss: 0.009275684133172035, || Validation acc: 0.9327354260089686  , Validation loss: 0.2680944796237681\n",
            "\n",
            "Epoch : 7/10 , Training acc: 0.9288208880758357 ,Training loss: 0.005239308811724186, || Validation acc: 0.9533632286995516  , Validation loss: 0.21715669540895355\n",
            "\n",
            "Epoch : 8/10 , Training acc: 0.934974222517878 ,Training loss: 0.0017506900476291776, || Validation acc: 0.9605381165919282  , Validation loss: 0.16997948330309656\n",
            "\n",
            "Epoch : 9/10 , Training acc: 0.9236653916514219 ,Training loss: 0.004838563501834869, || Validation acc: 0.9721973094170404  , Validation loss: 0.1393871805113223\n",
            "\n",
            "Epoch : 10/10 , Training acc: 0.9353068351904208 ,Training loss: 0.0066812713630497456, || Validation acc: 0.9650224215246637  , Validation loss: 0.18797999516957337\n",
            "\n",
            "Final Training Accuracy: 0.9353068351904208\n",
            "Final Validation Accuracy: 0.9650224215246637\n"
          ]
        }
      ]
    },
    {
      "cell_type": "code",
      "metadata": {
        "colab": {
          "base_uri": "https://localhost:8080/"
        },
        "id": "RGKQKH5mTbiz",
        "outputId": "05a0d53d-d6f1-4f0c-fd6d-29bdfb4742c5"
      },
      "source": [
        "model_3 = RNN(input_size = len(text_field.vocab),hidden_size = 10, out_type = 2)\n",
        "model_3.name = 'model_3'\n",
        "train_rnn_network(model_3, train, valid,num_epochs=10, learning_rate=1e-3)"
      ],
      "execution_count": null,
      "outputs": [
        {
          "output_type": "stream",
          "name": "stdout",
          "text": [
            "Loading Data...\n",
            "Data Loaded...\n",
            "Epoch : 1/10 , Training acc: 0.5203725261932479 ,Training loss: 0.02327704429626465, || Validation acc: 0.13004484304932734  , Validation loss: 0.695569697353575\n",
            "\n",
            "Epoch : 2/10 , Training acc: 0.935805754199235 ,Training loss: 0.017404448240995407, || Validation acc: 0.9434977578475336  , Validation loss: 0.5359068074160152\n",
            "\n",
            "Epoch : 3/10 , Training acc: 0.9409612506236488 ,Training loss: 0.011377697810530663, || Validation acc: 0.9614349775784753  , Validation loss: 0.30208175463808906\n",
            "\n",
            "Epoch : 4/10 , Training acc: 0.9499417927823051 ,Training loss: 0.00829506665468216, || Validation acc: 0.9659192825112107  , Validation loss: 0.19968390464782715\n",
            "\n",
            "Epoch : 5/10 , Training acc: 0.9497754864460336 ,Training loss: 0.003985485527664423, || Validation acc: 0.957847533632287  , Validation loss: 0.17459012505908808\n",
            "\n",
            "Epoch : 6/10 , Training acc: 0.9526026941626476 ,Training loss: 0.0028972504660487175, || Validation acc: 0.967713004484305  , Validation loss: 0.12933144118222925\n",
            "\n",
            "Epoch : 7/10 , Training acc: 0.9640778313653751 ,Training loss: 0.0025913305580615997, || Validation acc: 0.9623318385650225  , Validation loss: 0.13028272034393418\n",
            "\n",
            "Epoch : 8/10 , Training acc: 0.9630799933477465 ,Training loss: 0.0028977631591260433, || Validation acc: 0.9668161434977578  , Validation loss: 0.10998314060270786\n",
            "\n",
            "Epoch : 9/10 , Training acc: 0.9662398137369034 ,Training loss: 0.0020059070084244013, || Validation acc: 0.9668161434977578  , Validation loss: 0.09924906409449047\n",
            "\n",
            "Epoch : 10/10 , Training acc: 0.9745551305504739 ,Training loss: 0.0010354378027841449, || Validation acc: 0.968609865470852  , Validation loss: 0.10060292104673055\n",
            "\n",
            "Final Training Accuracy: 0.9745551305504739\n",
            "Final Validation Accuracy: 0.968609865470852\n"
          ]
        }
      ]
    },
    {
      "cell_type": "code",
      "metadata": {
        "colab": {
          "base_uri": "https://localhost:8080/"
        },
        "id": "BBV0iVkMTeKJ",
        "outputId": "66dfde19-e312-4a27-f872-013e85869eb4"
      },
      "source": [
        "model_4 = RNN(input_size = len(text_field.vocab),hidden_size = 10, out_type = 3)\n",
        "model_4.name = 'model_4'\n",
        "train_rnn_network(model_4, train, valid,num_epochs=10, learning_rate=1e-3)"
      ],
      "execution_count": null,
      "outputs": [
        {
          "output_type": "stream",
          "name": "stdout",
          "text": [
            "Loading Data...\n",
            "Data Loaded...\n",
            "Epoch : 1/10 , Training acc: 0.5569599201729586 ,Training loss: 0.0666290819644928, || Validation acc: 0.20986547085201793  , Validation loss: 2.023954153060913\n",
            "\n",
            "Epoch : 2/10 , Training acc: 0.5922168634624979 ,Training loss: 0.058188296854496, || Validation acc: 0.7542600896860987  , Validation loss: 1.813897540171941\n",
            "\n",
            "Epoch : 3/10 , Training acc: 0.591052719108598 ,Training loss: 0.055394016206264496, || Validation acc: 0.7542600896860987  , Validation loss: 1.7166416413254209\n",
            "\n",
            "Epoch : 4/10 , Training acc: 0.5787460502245135 ,Training loss: 0.05313120037317276, || Validation acc: 0.7390134529147983  , Validation loss: 1.6525821917586856\n",
            "\n",
            "Epoch : 5/10 , Training acc: 0.6367869615832363 ,Training loss: 0.051830459386110306, || Validation acc: 0.6798206278026906  , Validation loss: 1.6137178507116106\n",
            "\n",
            "Epoch : 6/10 , Training acc: 0.612838849160153 ,Training loss: 0.05111275240778923, || Validation acc: 0.7130044843049327  , Validation loss: 1.5830773280726538\n",
            "\n",
            "Epoch : 7/10 , Training acc: 0.6171628139032097 ,Training loss: 0.049973879009485245, || Validation acc: 0.7076233183856502  , Validation loss: 1.5623523857858446\n",
            "\n",
            "Epoch : 8/10 , Training acc: 0.6271411940794944 ,Training loss: 0.04991409555077553, || Validation acc: 0.7210762331838565  , Validation loss: 1.5469544231891632\n",
            "\n",
            "Epoch : 9/10 , Training acc: 0.6231498420089805 ,Training loss: 0.04909474030137062, || Validation acc: 0.7237668161434978  , Validation loss: 1.534625467326906\n",
            "\n",
            "Epoch : 10/10 , Training acc: 0.6356228172293364 ,Training loss: 0.0489860437810421, || Validation acc: 0.715695067264574  , Validation loss: 1.5268151594532862\n",
            "\n",
            "Final Training Accuracy: 0.6356228172293364\n",
            "Final Validation Accuracy: 0.715695067264574\n"
          ]
        }
      ]
    },
    {
      "cell_type": "markdown",
      "metadata": {
        "id": "jOq-I3g2Tfp5"
      },
      "source": [
        "From the above results, out_type 2 performs better of all in terms of accuracy, so from here on we will only use this type to predict the output.\n"
      ]
    },
    {
      "cell_type": "code",
      "metadata": {
        "colab": {
          "base_uri": "https://localhost:8080/"
        },
        "id": "7Am2PBOpTgWc",
        "outputId": "f0769eaa-bd3f-4ee6-c5a8-01b6e5ce63ed"
      },
      "source": [
        "%%time\n",
        "model_5 = RNN(input_size = len(text_field.vocab),hidden_size = 5, out_type = 2)\n",
        "model_5.name = 'model_5'\n",
        "train_rnn_network(model_5, train, valid,num_epochs=30, learning_rate=1e-3)\n",
        "print('\\n')"
      ],
      "execution_count": null,
      "outputs": [
        {
          "output_type": "stream",
          "name": "stdout",
          "text": [
            "Loading Data...\n",
            "Data Loaded...\n",
            "Epoch : 1/30 , Training acc: 0.5180442374854481 ,Training loss: 0.0236948411911726, || Validation acc: 0.1273542600896861  , Validation loss: 0.7182825439506106\n",
            "\n",
            "Epoch : 2/30 , Training acc: 0.5717611841011142 ,Training loss: 0.02233540266752243, || Validation acc: 0.23497757847533632  , Validation loss: 0.6822577897045348\n",
            "\n",
            "Epoch : 3/30 , Training acc: 0.9123565607849659 ,Training loss: 0.018147971481084824, || Validation acc: 0.9013452914798207  , Validation loss: 0.5951326522562239\n",
            "\n",
            "Epoch : 4/30 , Training acc: 0.9384666555795775 ,Training loss: 0.014394903555512428, || Validation acc: 0.9641255605381166  , Validation loss: 0.4322839669055409\n",
            "\n",
            "Epoch : 5/30 , Training acc: 0.9509396307999335 ,Training loss: 0.008588908240199089, || Validation acc: 0.9659192825112107  , Validation loss: 0.2951357737183571\n",
            "\n",
            "Epoch : 6/30 , Training acc: 0.9552635955429902 ,Training loss: 0.0065859220921993256, || Validation acc: 0.967713004484305  , Validation loss: 0.2151032326122125\n",
            "\n",
            "Epoch : 7/30 , Training acc: 0.9545983701979045 ,Training loss: 0.0037947199307382107, || Validation acc: 0.9695067264573991  , Validation loss: 0.17431075912382868\n",
            "\n",
            "Epoch : 8/30 , Training acc: 0.9560951272243472 ,Training loss: 0.0030353001784533262, || Validation acc: 0.9721973094170404  , Validation loss: 0.14976584393945006\n",
            "\n",
            "Epoch : 9/30 , Training acc: 0.9570929652419757 ,Training loss: 0.006009852979332209, || Validation acc: 0.9721973094170404  , Validation loss: 0.13214393498169053\n",
            "\n",
            "Epoch : 10/30 , Training acc: 0.9569266589057043 ,Training loss: 0.0022428249940276146, || Validation acc: 0.9713004484304932  , Validation loss: 0.12738719313508934\n",
            "\n",
            "Epoch : 11/30 , Training acc: 0.9610843173124896 ,Training loss: 0.0071665444411337376, || Validation acc: 0.968609865470852  , Validation loss: 0.12681594697965515\n",
            "\n",
            "Epoch : 12/30 , Training acc: 0.9614169299850325 ,Training loss: 0.0010168158914893866, || Validation acc: 0.9704035874439462  , Validation loss: 0.11712347560872634\n",
            "\n",
            "Epoch : 13/30 , Training acc: 0.9637452186928323 ,Training loss: 0.00540491146966815, || Validation acc: 0.9739910313901345  , Validation loss: 0.10692948972185452\n",
            "\n",
            "Epoch : 14/30 , Training acc: 0.9645767503741892 ,Training loss: 0.0037635506596416235, || Validation acc: 0.9730941704035875  , Validation loss: 0.10607241921954685\n",
            "\n",
            "Epoch : 15/30 , Training acc: 0.9662398137369034 ,Training loss: 0.003554705297574401, || Validation acc: 0.9721973094170404  , Validation loss: 0.098908347181148\n",
            "\n",
            "Epoch : 16/30 , Training acc: 0.9665724264094462 ,Training loss: 0.004195920191705227, || Validation acc: 0.9713004484304932  , Validation loss: 0.10571889465467797\n",
            "\n",
            "Epoch : 17/30 , Training acc: 0.966905039081989 ,Training loss: 0.0032468875870108604, || Validation acc: 0.9739910313901345  , Validation loss: 0.09437798134361704\n",
            "\n",
            "Epoch : 18/30 , Training acc: 0.966905039081989 ,Training loss: 0.0011827572016045451, || Validation acc: 0.9730941704035875  , Validation loss: 0.09248775662854314\n",
            "\n",
            "Epoch : 19/30 , Training acc: 0.9698985531348744 ,Training loss: 0.0010283951414749026, || Validation acc: 0.9748878923766816  , Validation loss: 0.09279029298987654\n",
            "\n",
            "Epoch : 20/30 , Training acc: 0.9690670214535174 ,Training loss: 0.0021068525966256857, || Validation acc: 0.9730941704035875  , Validation loss: 0.09635106489683191\n",
            "\n",
            "Epoch : 21/30 , Training acc: 0.9710626974887743 ,Training loss: 0.002093339804559946, || Validation acc: 0.9739910313901345  , Validation loss: 0.08953527516374986\n",
            "\n",
            "Epoch : 22/30 , Training acc: 0.9713953101613172 ,Training loss: 0.0010608446318656206, || Validation acc: 0.9739910313901345  , Validation loss: 0.08686542190197441\n",
            "\n",
            "Epoch : 23/30 , Training acc: 0.9707300848162315 ,Training loss: 0.0002700052282307297, || Validation acc: 0.9739910313901345  , Validation loss: 0.09481638970060481\n",
            "\n",
            "Epoch : 24/30 , Training acc: 0.9712290038250457 ,Training loss: 0.005087296944111586, || Validation acc: 0.9748878923766816  , Validation loss: 0.08437355338699287\n",
            "\n",
            "Epoch : 25/30 , Training acc: 0.9712290038250457 ,Training loss: 0.0010315671097487211, || Validation acc: 0.9748878923766816  , Validation loss: 0.08405281473985976\n",
            "\n",
            "Epoch : 26/30 , Training acc: 0.9707300848162315 ,Training loss: 0.0002454510540701449, || Validation acc: 0.9739910313901345  , Validation loss: 0.08707181586780482\n",
            "\n",
            "Epoch : 27/30 , Training acc: 0.9705637784799601 ,Training loss: 0.0010781196178868413, || Validation acc: 0.9739910313901345  , Validation loss: 0.08044311564622654\n",
            "\n",
            "Epoch : 28/30 , Training acc: 0.9705637784799601 ,Training loss: 0.008409423753619194, || Validation acc: 0.9766816143497757  , Validation loss: 0.08584523113030526\n",
            "\n",
            "Epoch : 29/30 , Training acc: 0.9715616164975885 ,Training loss: 0.00034095195587724447, || Validation acc: 0.9757847533632287  , Validation loss: 0.08227241975772712\n",
            "\n",
            "Epoch : 30/30 , Training acc: 0.97172792283386 ,Training loss: 0.000633836432825774, || Validation acc: 0.9766816143497757  , Validation loss: 0.0820636903711905\n",
            "\n",
            "Final Training Accuracy: 0.97172792283386\n",
            "Final Validation Accuracy: 0.9766816143497757\n",
            "\n",
            "\n",
            "CPU times: user 1min 29s, sys: 851 ms, total: 1min 30s\n",
            "Wall time: 1min 30s\n"
          ]
        }
      ]
    },
    {
      "cell_type": "markdown",
      "metadata": {
        "id": "V-4Ih4_6TjnJ"
      },
      "source": [
        "With lower number of hidden state dimensions, the validation accuracy of the model tends to flatten after few epochs, this could be reason due to less number of parameters to learn."
      ]
    },
    {
      "cell_type": "code",
      "metadata": {
        "colab": {
          "base_uri": "https://localhost:8080/"
        },
        "id": "V_gNm2_WThsf",
        "outputId": "d5d50792-9083-461c-b95a-4dbdeae272ac"
      },
      "source": [
        "%%time\n",
        "model_6 = RNN(input_size = len(text_field.vocab),hidden_size = 15, out_type = 2)\n",
        "model_6.name = 'model_6'\n",
        "train_rnn_network(model_6, train, valid, num_epochs=15, learning_rate=1e-3)\n",
        "print('\\n')"
      ],
      "execution_count": null,
      "outputs": [
        {
          "output_type": "stream",
          "name": "stdout",
          "text": [
            "Loading Data...\n",
            "Data Loaded...\n",
            "Epoch : 1/15 , Training acc: 0.9323133211375353 ,Training loss: 0.014123281463980675, || Validation acc: 0.9713004484304932  , Validation loss: 0.4257356814212269\n",
            "\n",
            "Epoch : 2/15 , Training acc: 0.9544320638616332 ,Training loss: 0.006926279515028, || Validation acc: 0.9713004484304932  , Validation loss: 0.17349532267285717\n",
            "\n",
            "Epoch : 3/15 , Training acc: 0.9564277398968901 ,Training loss: 0.005460591055452824, || Validation acc: 0.9766816143497757  , Validation loss: 0.12412333654032813\n",
            "\n",
            "Epoch : 4/15 , Training acc: 0.9660735074006319 ,Training loss: 0.001938255038112402, || Validation acc: 0.9614349775784753  , Validation loss: 0.1716100455572208\n",
            "\n",
            "Epoch : 5/15 , Training acc: 0.9622484616663894 ,Training loss: 0.002029873663559556, || Validation acc: 0.9704035874439462  , Validation loss: 0.10323084383789036\n",
            "\n",
            "Epoch : 6/15 , Training acc: 0.9624147680026609 ,Training loss: 0.0032108037266880274, || Validation acc: 0.9730941704035875  , Validation loss: 0.08459747856896785\n",
            "\n",
            "Epoch : 7/15 , Training acc: 0.9657408947280891 ,Training loss: 0.002330936724320054, || Validation acc: 0.95695067264574  , Validation loss: 0.16792399932940802\n",
            "\n",
            "Epoch : 8/15 , Training acc: 0.9738899052053883 ,Training loss: 0.0027492402587085962, || Validation acc: 0.9721973094170404  , Validation loss: 0.08616133701677124\n",
            "\n",
            "Epoch : 9/15 , Training acc: 0.9762181939131881 ,Training loss: 0.0007193736382760108, || Validation acc: 0.9704035874439462  , Validation loss: 0.0890500442021423\n",
            "\n",
            "Epoch : 10/15 , Training acc: 0.975386662231831 ,Training loss: 0.0009056170238181949, || Validation acc: 0.97847533632287  , Validation loss: 0.07039471790711913\n",
            "\n",
            "Epoch : 11/15 , Training acc: 0.9770497255945452 ,Training loss: 0.003992365673184395, || Validation acc: 0.9695067264573991  , Validation loss: 0.09431167666075958\n",
            "\n",
            "Epoch : 12/15 , Training acc: 0.9768834192582737 ,Training loss: 0.0003510590177029371, || Validation acc: 0.9802690582959641  , Validation loss: 0.06582195748988953\n",
            "\n",
            "Epoch : 13/15 , Training acc: 0.981041077665059 ,Training loss: 0.004670595284551382, || Validation acc: 0.9748878923766816  , Validation loss: 0.07719770909493996\n",
            "\n",
            "Epoch : 14/15 , Training acc: 0.9828704473640446 ,Training loss: 0.004311454948037863, || Validation acc: 0.9739910313901345  , Validation loss: 0.07348508041145073\n",
            "\n",
            "Epoch : 15/15 , Training acc: 0.9760518875769166 ,Training loss: 0.002086590975522995, || Validation acc: 0.9829596412556054  , Validation loss: 0.05314981074641562\n",
            "\n",
            "Final Training Accuracy: 0.9760518875769166\n",
            "Final Validation Accuracy: 0.9829596412556054\n",
            "\n",
            "\n",
            "CPU times: user 49.1 s, sys: 520 ms, total: 49.6 s\n",
            "Wall time: 49.4 s\n"
          ]
        }
      ]
    },
    {
      "cell_type": "markdown",
      "metadata": {
        "id": "hwtYeFWRTm7a"
      },
      "source": [
        "with hidden size of 15, we are able to achieve slightly better performance of base model(hidden size = 10) with in 15 epochs. So, the increase in number of parameters makes our model to learn better. We will increase the hidden size further and decide the hidden size."
      ]
    },
    {
      "cell_type": "code",
      "metadata": {
        "colab": {
          "base_uri": "https://localhost:8080/"
        },
        "id": "1n3AYImvTlTg",
        "outputId": "23dbb1aa-311f-43c8-9aa9-8fd6314c2755"
      },
      "source": [
        "%%time\n",
        "model_7 = RNN(input_size = len(text_field.vocab),hidden_size = len(text_field.vocab), out_type = 2)\n",
        "model_7.name = 'model_7'\n",
        "train_rnn_network(model_7, train, valid,num_epochs=10, learning_rate=1e-3)\n",
        "print('\\n')"
      ],
      "execution_count": null,
      "outputs": [
        {
          "output_type": "stream",
          "name": "stdout",
          "text": [
            "Loading Data...\n",
            "Data Loaded...\n",
            "Epoch : 1/10 , Training acc: 0.9522700814901047 ,Training loss: 0.0034331222996115685, || Validation acc: 0.9748878923766816  , Validation loss: 0.13404492951101726\n",
            "\n",
            "Epoch : 2/10 , Training acc: 0.9698985531348744 ,Training loss: 0.002151862485334277, || Validation acc: 0.9587443946188341  , Validation loss: 0.12107050832774904\n",
            "\n",
            "Epoch : 3/10 , Training acc: 0.9725594545152171 ,Training loss: 0.0024725045077502728, || Validation acc: 0.9820627802690582  , Validation loss: 0.06485010722341637\n",
            "\n",
            "Epoch : 4/10 , Training acc: 0.97172792283386 ,Training loss: 0.0005904097342863679, || Validation acc: 0.9363228699551569  , Validation loss: 0.16180699701524442\n",
            "\n",
            "Epoch : 5/10 , Training acc: 0.9866954930982871 ,Training loss: 0.000268277944996953, || Validation acc: 0.9829596412556054  , Validation loss: 0.05697090381808165\n",
            "\n",
            "Epoch : 6/10 , Training acc: 0.9833693663728588 ,Training loss: 0.0009609885746613145, || Validation acc: 0.9802690582959641  , Validation loss: 0.059919964431578085\n",
            "\n",
            "Epoch : 7/10 , Training acc: 0.9931814402128721 ,Training loss: 0.00024847255554050207, || Validation acc: 0.9748878923766816  , Validation loss: 0.07354280683729383\n",
            "\n",
            "Epoch : 8/10 , Training acc: 0.9875270247796442 ,Training loss: 0.001684020389802754, || Validation acc: 0.9820627802690582  , Validation loss: 0.0593617838781534\n",
            "\n",
            "Epoch : 9/10 , Training acc: 0.998004323964743 ,Training loss: 0.0001703621819615364, || Validation acc: 0.979372197309417  , Validation loss: 0.06268216705130827\n",
            "\n",
            "Epoch : 10/10 , Training acc: 0.9933477465491435 ,Training loss: 0.00020083393610548228, || Validation acc: 0.9766816143497757  , Validation loss: 0.07218671196217959\n",
            "\n",
            "Final Training Accuracy: 0.9933477465491435\n",
            "Final Validation Accuracy: 0.9766816143497757\n",
            "\n",
            "\n",
            "CPU times: user 1min 15s, sys: 697 ms, total: 1min 16s\n",
            "Wall time: 1min 16s\n"
          ]
        }
      ]
    },
    {
      "cell_type": "markdown",
      "metadata": {
        "id": "ULOteGZ3o9im"
      },
      "source": [
        "As very large number of parameters made our model to overfit, we will try with hidden size of 50 along with adjusting learning rate."
      ]
    },
    {
      "cell_type": "markdown",
      "metadata": {
        "id": "a0h5kY2-pp2_"
      },
      "source": [
        "First we will try to find the best learning rate with large number of hidden dimensions."
      ]
    },
    {
      "cell_type": "code",
      "metadata": {
        "colab": {
          "base_uri": "https://localhost:8080/"
        },
        "id": "rt3HSpxwTpIx",
        "outputId": "1e50e065-4656-4a2e-d035-e3ad0bb8d59d"
      },
      "source": [
        "%%time\n",
        "model_8 = RNN(input_size = len(text_field.vocab),hidden_size = len(text_field.vocab), out_type = 2)\n",
        "model_8.name = 'model_8'\n",
        "train_rnn_network(model_8, train, valid,num_epochs=15, learning_rate=5e-4)\n",
        "print('\\n')"
      ],
      "execution_count": null,
      "outputs": [
        {
          "output_type": "stream",
          "name": "stdout",
          "text": [
            "Loading Data...\n",
            "Data Loaded...\n",
            "Epoch : 1/15 , Training acc: 0.9402960252785632 ,Training loss: 0.01301592867821455, || Validation acc: 0.9596412556053812  , Validation loss: 0.36593010773261386\n",
            "\n",
            "Epoch : 2/15 , Training acc: 0.9564277398968901 ,Training loss: 0.004827865865081549, || Validation acc: 0.9560538116591928  , Validation loss: 0.16718624159693718\n",
            "\n",
            "Epoch : 3/15 , Training acc: 0.9600864792948611 ,Training loss: 0.004028782714158297, || Validation acc: 0.9650224215246637  , Validation loss: 0.11308781295600864\n",
            "\n",
            "Epoch : 4/15 , Training acc: 0.965241975719275 ,Training loss: 0.0021789371967315674, || Validation acc: 0.9605381165919282  , Validation loss: 0.12094834633171558\n",
            "\n",
            "Epoch : 5/15 , Training acc: 0.9690670214535174 ,Training loss: 0.0010433006100356579, || Validation acc: 0.9659192825112107  , Validation loss: 0.09632633978294002\n",
            "\n",
            "Epoch : 6/15 , Training acc: 0.9758855812406453 ,Training loss: 0.002004663459956646, || Validation acc: 0.9721973094170404  , Validation loss: 0.07844738957161705\n",
            "\n",
            "Epoch : 7/15 , Training acc: 0.9823715283552303 ,Training loss: 0.0004975432530045509, || Validation acc: 0.9713004484304932  , Validation loss: 0.07284176504860322\n",
            "\n",
            "Epoch : 8/15 , Training acc: 0.9873607184433727 ,Training loss: 0.0016405462520197034, || Validation acc: 0.9721973094170404  , Validation loss: 0.07727460814122525\n",
            "\n",
            "Epoch : 9/15 , Training acc: 0.9918509895227008 ,Training loss: 0.0005425754934549332, || Validation acc: 0.9721973094170404  , Validation loss: 0.07949654116398758\n",
            "\n",
            "Epoch : 10/15 , Training acc: 0.9933477465491435 ,Training loss: 0.0004376664583105594, || Validation acc: 0.9811659192825112  , Validation loss: 0.05721830905208157\n",
            "\n",
            "Epoch : 11/15 , Training acc: 0.9941792782305006 ,Training loss: 0.00048801215598359704, || Validation acc: 0.9811659192825112  , Validation loss: 0.061895749557556376\n",
            "\n",
            "Epoch : 12/15 , Training acc: 0.9956760352569433 ,Training loss: 4.917259866488166e-05, || Validation acc: 0.97847533632287  , Validation loss: 0.06319377942579901\n",
            "\n",
            "Epoch : 13/15 , Training acc: 0.9983369366372858 ,Training loss: 0.00038053651223890483, || Validation acc: 0.9811659192825112  , Validation loss: 0.061565409776651196\n",
            "\n",
            "Epoch : 14/15 , Training acc: 0.9966738732745718 ,Training loss: 0.001239011180587113, || Validation acc: 0.9695067264573991  , Validation loss: 0.08727911062305793\n",
            "\n",
            "Epoch : 15/15 , Training acc: 0.9993347746549144 ,Training loss: 0.00458901934325695, || Validation acc: 0.9829596412556054  , Validation loss: 0.06129407754633576\n",
            "\n",
            "Final Training Accuracy: 0.9993347746549144\n",
            "Final Validation Accuracy: 0.9829596412556054\n",
            "\n",
            "\n",
            "CPU times: user 1min 54s, sys: 986 ms, total: 1min 55s\n",
            "Wall time: 1min 54s\n"
          ]
        }
      ]
    },
    {
      "cell_type": "markdown",
      "metadata": {
        "id": "20KxCN6EckZC"
      },
      "source": [
        "Although this model gave best result, it tends to overfit the training data, so we will try to reduce the hidden size to 50 with same learning rate. But change the batch size to converge faster without overfitting."
      ]
    },
    {
      "cell_type": "code",
      "metadata": {
        "colab": {
          "base_uri": "https://localhost:8080/"
        },
        "id": "FKzs_FclcumU",
        "outputId": "7c990e94-31c0-41cf-9429-f6ab71a93088"
      },
      "source": [
        "%%time\n",
        "model_9 = RNN(input_size = len(text_field.vocab),hidden_size = 50, out_type = 2)\n",
        "model_9.name = 'model_9'\n",
        "train_rnn_network(model_9, train, valid,num_epochs=15, learning_rate=5e-4,batch_size=8)\n",
        "print('\\n')"
      ],
      "execution_count": null,
      "outputs": [
        {
          "output_type": "stream",
          "name": "stdout",
          "text": [
            "Loading Data...\n",
            "Data Loaded...\n",
            "Epoch : 1/15 , Training acc: 0.9517711624812906 ,Training loss: 0.007119743153452873, || Validation acc: 0.9641255605381166  , Validation loss: 0.14084328977879904\n",
            "\n",
            "Epoch : 2/15 , Training acc: 0.9615832363213038 ,Training loss: 0.004440195858478546, || Validation acc: 0.967713004484305  , Validation loss: 0.10587628682454427\n",
            "\n",
            "Epoch : 3/15 , Training acc: 0.9725594545152171 ,Training loss: 0.0032237700652331114, || Validation acc: 0.9650224215246637  , Validation loss: 0.1075327894088964\n",
            "\n",
            "Epoch : 4/15 , Training acc: 0.9775486446033594 ,Training loss: 0.011375676840543747, || Validation acc: 0.9704035874439462  , Validation loss: 0.08844422428135543\n",
            "\n",
            "Epoch : 5/15 , Training acc: 0.9817063030101447 ,Training loss: 0.006787954363971949, || Validation acc: 0.9748878923766816  , Validation loss: 0.08078408348274992\n",
            "\n",
            "Epoch : 6/15 , Training acc: 0.9738899052053883 ,Training loss: 0.0009693511528894305, || Validation acc: 0.9820627802690582  , Validation loss: 0.06458529237829519\n",
            "\n",
            "Epoch : 7/15 , Training acc: 0.9888574754698154 ,Training loss: 0.007756460923701525, || Validation acc: 0.9802690582959641  , Validation loss: 0.06834243689432529\n",
            "\n",
            "Epoch : 8/15 , Training acc: 0.9926825212040579 ,Training loss: 0.009979348629713058, || Validation acc: 0.97847533632287  , Validation loss: 0.06620340073705776\n",
            "\n",
            "Epoch : 9/15 , Training acc: 0.9966738732745718 ,Training loss: 0.002246204297989607, || Validation acc: 0.97847533632287  , Validation loss: 0.06833644189165099\n",
            "\n",
            "Epoch : 10/15 , Training acc: 0.998004323964743 ,Training loss: 0.00044471153523772955, || Validation acc: 0.97847533632287  , Validation loss: 0.07300389518322264\n",
            "\n",
            "Epoch : 11/15 , Training acc: 0.9973390986196574 ,Training loss: 0.0020186249166727066, || Validation acc: 0.9811659192825112  , Validation loss: 0.07052359176537101\n",
            "\n",
            "Epoch : 12/15 , Training acc: 0.9955097289206719 ,Training loss: 6.625633250223473e-05, || Validation acc: 0.9838565022421525  , Validation loss: 0.07283155082131353\n",
            "\n",
            "Epoch : 13/15 , Training acc: 0.9970064859471146 ,Training loss: 0.003744629444554448, || Validation acc: 0.9739910313901345  , Validation loss: 0.08723444916633641\n",
            "\n",
            "Epoch : 14/15 , Training acc: 0.989522700814901 ,Training loss: 0.0001321602176176384, || Validation acc: 0.9838565022421525  , Validation loss: 0.07980597532413741\n",
            "\n",
            "Epoch : 15/15 , Training acc: 0.9981706303010145 ,Training loss: 1.756335041136481e-05, || Validation acc: 0.9811659192825112  , Validation loss: 0.08268215628542606\n",
            "\n",
            "Final Training Accuracy: 0.9981706303010145\n",
            "Final Validation Accuracy: 0.9811659192825112\n",
            "\n",
            "\n",
            "CPU times: user 2min 48s, sys: 696 ms, total: 2min 49s\n",
            "Wall time: 2min 48s\n"
          ]
        }
      ]
    },
    {
      "cell_type": "markdown",
      "metadata": {
        "id": "Y6fmBJLaqJV_"
      },
      "source": [
        "The above model didn't perform as expected. So, experimenting the model with previous hidden size as it gave better results."
      ]
    },
    {
      "cell_type": "code",
      "metadata": {
        "colab": {
          "base_uri": "https://localhost:8080/"
        },
        "id": "wyv04kBdcw1D",
        "outputId": "171577c6-0175-4025-89b5-1efb0dbe6f47"
      },
      "source": [
        "%%time\n",
        "model_10 = RNN(input_size = len(text_field.vocab),hidden_size = len(text_field.vocab), out_type = 2)\n",
        "model_10.name = 'model_10'\n",
        "train_rnn_network(model_10, train, valid,num_epochs=15, learning_rate=5e-4,batch_size=16)\n",
        "print('\\n')"
      ],
      "execution_count": null,
      "outputs": [
        {
          "output_type": "stream",
          "name": "stdout",
          "text": [
            "Loading Data...\n",
            "Data Loaded...\n",
            "Epoch : 1/15 , Training acc: 0.9536005321802761 ,Training loss: 0.02453790418803692, || Validation acc: 0.9721973094170404  , Validation loss: 0.16675588960798693\n",
            "\n",
            "Epoch : 2/15 , Training acc: 0.9639115250291036 ,Training loss: 0.001343687647022307, || Validation acc: 0.95695067264574  , Validation loss: 0.14207664945385826\n",
            "\n",
            "Epoch : 3/15 , Training acc: 0.9644104440379179 ,Training loss: 0.0014597648987546563, || Validation acc: 0.9488789237668162  , Validation loss: 0.17267808433569654\n",
            "\n",
            "Epoch : 4/15 , Training acc: 0.9758855812406453 ,Training loss: 0.01602531410753727, || Validation acc: 0.9775784753363229  , Validation loss: 0.07941492757117244\n",
            "\n",
            "Epoch : 5/15 , Training acc: 0.9805421586562448 ,Training loss: 0.006237176712602377, || Validation acc: 0.9811659192825112  , Validation loss: 0.06494649145489848\n",
            "\n",
            "Epoch : 6/15 , Training acc: 0.9876933311159155 ,Training loss: 0.000567249022424221, || Validation acc: 0.979372197309417  , Validation loss: 0.059488648443784514\n",
            "\n",
            "Epoch : 7/15 , Training acc: 0.9885248627972726 ,Training loss: 0.0012300387024879456, || Validation acc: 0.9632286995515695  , Validation loss: 0.11220087442861897\n",
            "\n",
            "Epoch : 8/15 , Training acc: 0.9920172958589722 ,Training loss: 0.0003907144709955901, || Validation acc: 0.9802690582959641  , Validation loss: 0.06530558486455973\n",
            "\n",
            "Epoch : 9/15 , Training acc: 0.9976717112922002 ,Training loss: 0.00014567383914254606, || Validation acc: 0.97847533632287  , Validation loss: 0.06347637417280233\n",
            "\n",
            "Epoch : 10/15 , Training acc: 0.9993347746549144 ,Training loss: 0.004454204346984625, || Validation acc: 0.9847533632286996  , Validation loss: 0.06717643800558863\n",
            "\n",
            "Epoch : 11/15 , Training acc: 0.9985032429735573 ,Training loss: 7.331842789426446e-05, || Validation acc: 0.9820627802690582  , Validation loss: 0.0736054144693132\n",
            "\n",
            "Epoch : 12/15 , Training acc: 0.9993347746549144 ,Training loss: 5.303275247570127e-05, || Validation acc: 0.9811659192825112  , Validation loss: 0.06510146071275198\n",
            "\n",
            "Epoch : 13/15 , Training acc: 0.9988358556461001 ,Training loss: 3.128175012534484e-05, || Validation acc: 0.9802690582959641  , Validation loss: 0.07000182716062778\n",
            "\n",
            "Epoch : 14/15 , Training acc: 0.9990021619823716 ,Training loss: 6.198299615789438e-06, || Validation acc: 0.9811659192825112  , Validation loss: 0.07545652841119437\n",
            "\n",
            "Epoch : 15/15 , Training acc: 1.0 ,Training loss: 0.00022914964938536286, || Validation acc: 0.9811659192825112  , Validation loss: 0.08319239937278121\n",
            "\n",
            "Final Training Accuracy: 1.0\n",
            "Final Validation Accuracy: 0.9811659192825112\n",
            "\n",
            "\n",
            "CPU times: user 2min 35s, sys: 1.35 s, total: 2min 36s\n",
            "Wall time: 2min 35s\n"
          ]
        }
      ]
    },
    {
      "cell_type": "markdown",
      "metadata": {
        "id": "NV700m5dqmwz"
      },
      "source": [
        "This model gave the best results till now with validation accuracy of 98.47% at 10th epoch."
      ]
    },
    {
      "cell_type": "code",
      "metadata": {
        "colab": {
          "base_uri": "https://localhost:8080/"
        },
        "id": "y_6OCMvpcynC",
        "outputId": "4296ec88-786b-47ee-cae5-d7e80181ae0d"
      },
      "source": [
        "%%time\n",
        "model_11 = RNN(input_size = len(text_field.vocab),hidden_size = len(text_field.vocab), out_type = 2)\n",
        "model_11.name = 'model_11'\n",
        "train_rnn_network(model_11, train, valid,num_epochs=15, learning_rate=5e-4,batch_size=64)\n",
        "print('\\n')"
      ],
      "execution_count": null,
      "outputs": [
        {
          "output_type": "stream",
          "name": "stdout",
          "text": [
            "Loading Data...\n",
            "Data Loaded...\n",
            "Epoch : 1/15 , Training acc: 0.9254947613504074 ,Training loss: 0.00883531104773283, || Validation acc: 0.9730941704035875  , Validation loss: 0.5220498175997483\n",
            "\n",
            "Epoch : 2/15 , Training acc: 0.9431232329951771 ,Training loss: 0.005946161225438118, || Validation acc: 0.9533632286995516  , Validation loss: 0.3442166322156003\n",
            "\n",
            "Epoch : 3/15 , Training acc: 0.8386828538167305 ,Training loss: 0.007951997220516205, || Validation acc: 0.9551569506726457  , Validation loss: 0.1474047279671619\n",
            "\n",
            "Epoch : 4/15 , Training acc: 0.9560951272243472 ,Training loss: 0.0021567009389400482, || Validation acc: 0.9721973094170404  , Validation loss: 0.15804580834351087\n",
            "\n",
            "Epoch : 5/15 , Training acc: 0.958423415932147 ,Training loss: 0.00039485780871473253, || Validation acc: 0.9713004484304932  , Validation loss: 0.12372773924940511\n",
            "\n",
            "Epoch : 6/15 , Training acc: 0.955596208215533 ,Training loss: 0.0025393220130354166, || Validation acc: 0.9748878923766816  , Validation loss: 0.09272073738669094\n",
            "\n",
            "Epoch : 7/15 , Training acc: 0.9665724264094462 ,Training loss: 0.0025508031249046326, || Validation acc: 0.9748878923766816  , Validation loss: 0.0937929363235047\n",
            "\n",
            "Epoch : 8/15 , Training acc: 0.9682354897721603 ,Training loss: 0.0005079512484371662, || Validation acc: 0.9623318385650225  , Validation loss: 0.10337176762129131\n",
            "\n",
            "Epoch : 9/15 , Training acc: 0.966905039081989 ,Training loss: 0.0013974594185128808, || Validation acc: 0.9766816143497757  , Validation loss: 0.07672899696779878\n",
            "\n",
            "Epoch : 10/15 , Training acc: 0.9712290038250457 ,Training loss: 0.0010248259641230106, || Validation acc: 0.9757847533632287  , Validation loss: 0.08853928803613312\n",
            "\n",
            "Epoch : 11/15 , Training acc: 0.9748877432230167 ,Training loss: 0.0027927602641284466, || Validation acc: 0.9596412556053812  , Validation loss: 0.1058342456817627\n",
            "\n",
            "Epoch : 12/15 , Training acc: 0.9800432396474306 ,Training loss: 0.0008509440231136978, || Validation acc: 0.9739910313901345  , Validation loss: 0.08708989767259673\n",
            "\n",
            "Epoch : 13/15 , Training acc: 0.9698985531348744 ,Training loss: 0.0019686147570610046, || Validation acc: 0.9417040358744395  , Validation loss: 0.1603287372149919\n",
            "\n",
            "Epoch : 14/15 , Training acc: 0.9815399966738733 ,Training loss: 0.0012176439631730318, || Validation acc: 0.9659192825112107  , Validation loss: 0.09693145702936147\n",
            "\n",
            "Epoch : 15/15 , Training acc: 0.9835356727091302 ,Training loss: 0.0009906350169330835, || Validation acc: 0.9766816143497757  , Validation loss: 0.06739469215665993\n",
            "\n",
            "Final Training Accuracy: 0.9835356727091302\n",
            "Final Validation Accuracy: 0.9766816143497757\n",
            "\n",
            "\n",
            "CPU times: user 1min 35s, sys: 941 ms, total: 1min 36s\n",
            "Wall time: 1min 35s\n"
          ]
        }
      ]
    },
    {
      "cell_type": "code",
      "metadata": {
        "colab": {
          "base_uri": "https://localhost:8080/"
        },
        "id": "OZHYaiS6czCs",
        "outputId": "fd23974a-41d8-43da-a1e7-7dd0eccd49e7"
      },
      "source": [
        "%%time\n",
        "model_12 = RNN(input_size = len(text_field.vocab),hidden_size = len(text_field.vocab), out_type = 2)\n",
        "model_12.name = 'model_12'\n",
        "train_rnn_network(model_12, train, valid,num_epochs=15, learning_rate=5e-4,batch_size=128)\n",
        "print('\\n')"
      ],
      "execution_count": null,
      "outputs": [
        {
          "output_type": "stream",
          "name": "stdout",
          "text": [
            "Loading Data...\n",
            "Data Loaded...\n",
            "Epoch : 1/15 , Training acc: 0.519208381839348 ,Training loss: 0.005664824973791838, || Validation acc: 0.12825112107623318  , Validation loss: 0.6506624102592469\n",
            "\n",
            "Epoch : 2/15 , Training acc: 0.9411275569599201 ,Training loss: 0.004738071467727423, || Validation acc: 0.9488789237668162  , Validation loss: 0.5114280343055725\n",
            "\n",
            "Epoch : 3/15 , Training acc: 0.9376351238982206 ,Training loss: 0.0017665778286755085, || Validation acc: 0.9452914798206278  , Validation loss: 0.3341741174459457\n",
            "\n",
            "Epoch : 4/15 , Training acc: 0.9228338599700648 ,Training loss: 0.0010683397995308042, || Validation acc: 0.8923766816143498  , Validation loss: 0.37366925477981566\n",
            "\n",
            "Epoch : 5/15 , Training acc: 0.9449526026941627 ,Training loss: 0.0013588527217507362, || Validation acc: 0.9587443946188341  , Validation loss: 0.18276422172784806\n",
            "\n",
            "Epoch : 6/15 , Training acc: 0.9539331448528189 ,Training loss: 0.0010080449283123016, || Validation acc: 0.9596412556053812  , Validation loss: 0.1250775210559368\n",
            "\n",
            "Epoch : 7/15 , Training acc: 0.9582571095958756 ,Training loss: 0.0006510653183795512, || Validation acc: 0.9614349775784753  , Validation loss: 0.12026345282793045\n",
            "\n",
            "Epoch : 8/15 , Training acc: 0.9650756693830035 ,Training loss: 0.0006962164188735187, || Validation acc: 0.9623318385650225  , Validation loss: 0.11682396456599235\n",
            "\n",
            "Epoch : 9/15 , Training acc: 0.9690670214535174 ,Training loss: 0.0005214469856582582, || Validation acc: 0.9713004484304932  , Validation loss: 0.09624962136149406\n",
            "\n",
            "Epoch : 10/15 , Training acc: 0.9544320638616332 ,Training loss: 0.00046761383418925107, || Validation acc: 0.9757847533632287  , Validation loss: 0.06978783551603555\n",
            "\n",
            "Epoch : 11/15 , Training acc: 0.97172792283386 ,Training loss: 0.0008214705158025026, || Validation acc: 0.9650224215246637  , Validation loss: 0.10950772501528264\n",
            "\n",
            "Epoch : 12/15 , Training acc: 0.9763845002494596 ,Training loss: 0.0004151248140260577, || Validation acc: 0.9748878923766816  , Validation loss: 0.08149616438895464\n",
            "\n",
            "Epoch : 13/15 , Training acc: 0.979378014302345 ,Training loss: 0.0003874944231938571, || Validation acc: 0.9730941704035875  , Validation loss: 0.08445674329996108\n",
            "\n",
            "Epoch : 14/15 , Training acc: 0.9823715283552303 ,Training loss: 0.00030528768547810614, || Validation acc: 0.9713004484304932  , Validation loss: 0.07776741106063127\n",
            "\n",
            "Epoch : 15/15 , Training acc: 0.9837019790454016 ,Training loss: 0.000626609951723367, || Validation acc: 0.9748878923766816  , Validation loss: 0.07579448111355305\n",
            "\n",
            "Final Training Accuracy: 0.9837019790454016\n",
            "Final Validation Accuracy: 0.9748878923766816\n",
            "\n",
            "\n",
            "CPU times: user 1min 34s, sys: 1.23 s, total: 1min 35s\n",
            "Wall time: 1min 35s\n"
          ]
        }
      ]
    },
    {
      "cell_type": "markdown",
      "metadata": {
        "id": "EIrFw23rq2WW"
      },
      "source": [
        "As we can observe the accuracy is reducing as we increase the batch size, so we will terminate the tuning and analyze the best model."
      ]
    },
    {
      "cell_type": "markdown",
      "metadata": {
        "id": "Z_eABZVccsHZ"
      },
      "source": [
        "The model 10 (Batch size: 16, learning rate : 5e-4, out_type : 2, epoch: 10, hidden size : len(text_field.vocab)) acheived a validation accuracy of 98.47% at 10th epoch and seems to have lowest validation loss among all other models."
      ]
    },
    {
      "cell_type": "code",
      "metadata": {
        "id": "7ggbQSdba91J"
      },
      "source": [
        "# Create a Dataset of only spam validation examples\n",
        "valid_spam = torchtext.legacy.data.Dataset(\n",
        "    [e for e in valid.examples if e.label == 1],\n",
        "    valid.fields)\n",
        "\n",
        "valid_spam_iter = torchtext.legacy.data.BucketIterator(valid_spam,\n",
        "                                           batch_size=32,\n",
        "                                           sort_key=lambda x: len(x.sms), # to minimize padding\n",
        "                                           sort_within_batch=True,        # sort within each batch\n",
        "                                           repeat=False)  \n",
        "\n",
        "# Create a Dataset of only non-spam validation examples\n",
        "valid_nospam = torchtext.legacy.data.Dataset(\n",
        "    [e for e in valid.examples if e.label == 0],\n",
        "    valid.fields)\n",
        "\n",
        "valid_nospam_iter = torchtext.legacy.data.BucketIterator(valid_nospam,\n",
        "                                           batch_size=32,\n",
        "                                           sort_key=lambda x: len(x.sms), # to minimize padding\n",
        "                                           sort_within_batch=True,        # sort within each batch\n",
        "                                           repeat=False)  "
      ],
      "execution_count": null,
      "outputs": []
    },
    {
      "cell_type": "code",
      "metadata": {
        "colab": {
          "base_uri": "https://localhost:8080/"
        },
        "id": "sSOsPclieYgi",
        "outputId": "9d054cd3-6047-456e-a72f-eaf90d59db1c"
      },
      "source": [
        "model = RNN(input_size = len(text_field.vocab),hidden_size = len(text_field.vocab), out_type = 2)\n",
        "state = torch.load('model_10_epoch_10')\n",
        "model.load_state_dict(state)"
      ],
      "execution_count": null,
      "outputs": [
        {
          "output_type": "execute_result",
          "data": {
            "text/plain": [
              "<All keys matched successfully>"
            ]
          },
          "metadata": {},
          "execution_count": 29
        }
      ]
    },
    {
      "cell_type": "code",
      "metadata": {
        "colab": {
          "base_uri": "https://localhost:8080/"
        },
        "id": "o0Pb-9b5ebH9",
        "outputId": "0430e9be-d73e-4432-eb9c-2a260354438f"
      },
      "source": [
        "fnr = 1 - get_accuracy(model,valid = valid_spam_iter,criterion=None)\n",
        "print('False negative rate :',fnr)\n",
        "fpr = 1 - get_accuracy(model,valid = valid_nospam_iter,criterion=None)\n",
        "print('False positive rate :',fpr)"
      ],
      "execution_count": null,
      "outputs": [
        {
          "output_type": "stream",
          "name": "stdout",
          "text": [
            "False negative rate : 0.09859154929577463\n",
            "False positive rate : 0.004110996916752319\n"
          ]
        }
      ]
    },
    {
      "cell_type": "code",
      "metadata": {
        "id": "D5L5D-A1a91W",
        "colab": {
          "base_uri": "https://localhost:8080/"
        },
        "outputId": "fd018a02-9633-4163-f6f6-8acc542bd5a0"
      },
      "source": [
        "test_iter = torchtext.legacy.data.BucketIterator(test,\n",
        "                                           batch_size=32,\n",
        "                                           sort_key=lambda x: len(x.sms), # to minimize padding\n",
        "                                           sort_within_batch=True,        # sort within each batch\n",
        "                                           repeat=False) \n",
        "testacc = get_accuracy(model,test_iter,criterion=None)\n",
        "print('Testing Accuracy:',round(testacc,3)*100,'%')"
      ],
      "execution_count": null,
      "outputs": [
        {
          "output_type": "stream",
          "name": "stdout",
          "text": [
            "Testing Accuracy: 97.89999999999999 %\n"
          ]
        }
      ]
    },
    {
      "cell_type": "code",
      "metadata": {
        "id": "GFiAKztJa91Z"
      },
      "source": [
        "# Analyzing the model with Spam data\n",
        "test_spam = torchtext.legacy.data.Dataset(\n",
        "    [t for t in test.examples if t.label == 1],test.fields)\n",
        "\n",
        "test_spam_iter = torchtext.legacy.data.BucketIterator(test_spam,\n",
        "                                           batch_size=32,\n",
        "                                           sort_key=lambda x: len(x.sms), # to minimize padding\n",
        "                                           sort_within_batch=True,        # sort within each batch\n",
        "                                           repeat=False)  \n",
        "\n",
        "# Analyzing the model with non-Spam data\n",
        "test_nospam = torchtext.legacy.data.Dataset(\n",
        "    [t for t in test.examples if t.label == 0],\n",
        "    test.fields)\n",
        "\n",
        "test_nospam_iter = torchtext.legacy.data.BucketIterator(test_nospam,\n",
        "                                           batch_size=32,\n",
        "                                           sort_key=lambda x: len(x.sms), # to minimize padding\n",
        "                                           sort_within_batch=True,        # sort within each batch\n",
        "                                           repeat=False)  "
      ],
      "execution_count": null,
      "outputs": []
    },
    {
      "cell_type": "code",
      "metadata": {
        "colab": {
          "base_uri": "https://localhost:8080/"
        },
        "id": "UQ6bWFTfwQ_9",
        "outputId": "c8e1cb5f-89c0-487b-b762-31d6622fa647"
      },
      "source": [
        "fnr = 1 - get_accuracy(model,valid = test_spam_iter,criterion=None)\n",
        "print('False negative rate :',fnr)\n",
        "fpr = 1 - get_accuracy(model,valid = test_nospam_iter,criterion=None)\n",
        "print('False positive rate :',fpr)"
      ],
      "execution_count": null,
      "outputs": [
        {
          "output_type": "stream",
          "name": "stdout",
          "text": [
            "False negative rate : 0.08750000000000002\n",
            "False positive rate : 0.010482180293501009\n"
          ]
        }
      ]
    },
    {
      "cell_type": "code",
      "metadata": {
        "id": "h_2nSJq8a91b",
        "colab": {
          "base_uri": "https://localhost:8080/"
        },
        "outputId": "5aca8eba-4942-46c1-e4be-b987b1398a44"
      },
      "source": [
        "msg = \"machine learning is sooo cool!\"\n",
        "\n",
        "tokens = []\n",
        "\n",
        "for c in msg:\n",
        "  tokens.append(torch.tensor(text_field.vocab.stoi[c]))\n",
        "msg = torch.LongTensor([tokens])\n",
        "pred = model(msg)\n",
        "prob = F.softmax(pred,dim = 1)\n",
        "print('The probability that the given message is spam is:',float(prob[0][1]))"
      ],
      "execution_count": null,
      "outputs": [
        {
          "output_type": "stream",
          "name": "stdout",
          "text": [
            "The probability that the given message is spam is: 0.0015399408293887973\n"
          ]
        }
      ]
    },
    {
      "cell_type": "markdown",
      "source": [
        "## Improving the model using Transfer learning"
      ],
      "metadata": {
        "id": "jJs9pfMbxwoj"
      }
    },
    {
      "cell_type": "code",
      "metadata": {
        "id": "5R-_BQyiAMoo",
        "colab": {
          "base_uri": "https://localhost:8080/"
        },
        "outputId": "ff80976d-d8f5-4433-bc59-9635e6d71b75"
      },
      "source": [
        "# install relevant libraries\n",
        "!pip install fastai"
      ],
      "execution_count": null,
      "outputs": [
        {
          "output_type": "stream",
          "name": "stdout",
          "text": [
            "Requirement already satisfied: fastai in /usr/local/lib/python3.7/dist-packages (1.0.61)\n",
            "Requirement already satisfied: numexpr in /usr/local/lib/python3.7/dist-packages (from fastai) (2.7.3)\n",
            "Requirement already satisfied: spacy>=2.0.18 in /usr/local/lib/python3.7/dist-packages (from fastai) (2.2.4)\n",
            "Requirement already satisfied: nvidia-ml-py3 in /usr/local/lib/python3.7/dist-packages (from fastai) (7.352.0)\n",
            "Requirement already satisfied: pandas in /usr/local/lib/python3.7/dist-packages (from fastai) (1.1.5)\n",
            "Requirement already satisfied: Pillow in /usr/local/lib/python3.7/dist-packages (from fastai) (7.1.2)\n",
            "Requirement already satisfied: scipy in /usr/local/lib/python3.7/dist-packages (from fastai) (1.4.1)\n",
            "Requirement already satisfied: requests in /usr/local/lib/python3.7/dist-packages (from fastai) (2.23.0)\n",
            "Requirement already satisfied: pyyaml in /usr/local/lib/python3.7/dist-packages (from fastai) (3.13)\n",
            "Requirement already satisfied: beautifulsoup4 in /usr/local/lib/python3.7/dist-packages (from fastai) (4.6.3)\n",
            "Requirement already satisfied: matplotlib in /usr/local/lib/python3.7/dist-packages (from fastai) (3.2.2)\n",
            "Requirement already satisfied: bottleneck in /usr/local/lib/python3.7/dist-packages (from fastai) (1.3.2)\n",
            "Requirement already satisfied: packaging in /usr/local/lib/python3.7/dist-packages (from fastai) (21.3)\n",
            "Requirement already satisfied: torchvision in /usr/local/lib/python3.7/dist-packages (from fastai) (0.11.1+cu111)\n",
            "Requirement already satisfied: torch>=1.0.0 in /usr/local/lib/python3.7/dist-packages (from fastai) (1.10.0+cu111)\n",
            "Requirement already satisfied: numpy>=1.15 in /usr/local/lib/python3.7/dist-packages (from fastai) (1.19.5)\n",
            "Requirement already satisfied: fastprogress>=0.2.1 in /usr/local/lib/python3.7/dist-packages (from fastai) (1.0.0)\n",
            "Requirement already satisfied: srsly<1.1.0,>=1.0.2 in /usr/local/lib/python3.7/dist-packages (from spacy>=2.0.18->fastai) (1.0.5)\n",
            "Requirement already satisfied: murmurhash<1.1.0,>=0.28.0 in /usr/local/lib/python3.7/dist-packages (from spacy>=2.0.18->fastai) (1.0.6)\n",
            "Requirement already satisfied: wasabi<1.1.0,>=0.4.0 in /usr/local/lib/python3.7/dist-packages (from spacy>=2.0.18->fastai) (0.8.2)\n",
            "Requirement already satisfied: catalogue<1.1.0,>=0.0.7 in /usr/local/lib/python3.7/dist-packages (from spacy>=2.0.18->fastai) (1.0.0)\n",
            "Requirement already satisfied: blis<0.5.0,>=0.4.0 in /usr/local/lib/python3.7/dist-packages (from spacy>=2.0.18->fastai) (0.4.1)\n",
            "Requirement already satisfied: setuptools in /usr/local/lib/python3.7/dist-packages (from spacy>=2.0.18->fastai) (57.4.0)\n",
            "Requirement already satisfied: plac<1.2.0,>=0.9.6 in /usr/local/lib/python3.7/dist-packages (from spacy>=2.0.18->fastai) (1.1.3)\n",
            "Requirement already satisfied: tqdm<5.0.0,>=4.38.0 in /usr/local/lib/python3.7/dist-packages (from spacy>=2.0.18->fastai) (4.62.3)\n",
            "Requirement already satisfied: thinc==7.4.0 in /usr/local/lib/python3.7/dist-packages (from spacy>=2.0.18->fastai) (7.4.0)\n",
            "Requirement already satisfied: preshed<3.1.0,>=3.0.2 in /usr/local/lib/python3.7/dist-packages (from spacy>=2.0.18->fastai) (3.0.6)\n",
            "Requirement already satisfied: cymem<2.1.0,>=2.0.2 in /usr/local/lib/python3.7/dist-packages (from spacy>=2.0.18->fastai) (2.0.6)\n",
            "Requirement already satisfied: importlib-metadata>=0.20 in /usr/local/lib/python3.7/dist-packages (from catalogue<1.1.0,>=0.0.7->spacy>=2.0.18->fastai) (4.8.2)\n",
            "Requirement already satisfied: zipp>=0.5 in /usr/local/lib/python3.7/dist-packages (from importlib-metadata>=0.20->catalogue<1.1.0,>=0.0.7->spacy>=2.0.18->fastai) (3.6.0)\n",
            "Requirement already satisfied: typing-extensions>=3.6.4 in /usr/local/lib/python3.7/dist-packages (from importlib-metadata>=0.20->catalogue<1.1.0,>=0.0.7->spacy>=2.0.18->fastai) (3.10.0.2)\n",
            "Requirement already satisfied: chardet<4,>=3.0.2 in /usr/local/lib/python3.7/dist-packages (from requests->fastai) (3.0.4)\n",
            "Requirement already satisfied: certifi>=2017.4.17 in /usr/local/lib/python3.7/dist-packages (from requests->fastai) (2021.10.8)\n",
            "Requirement already satisfied: idna<3,>=2.5 in /usr/local/lib/python3.7/dist-packages (from requests->fastai) (2.10)\n",
            "Requirement already satisfied: urllib3!=1.25.0,!=1.25.1,<1.26,>=1.21.1 in /usr/local/lib/python3.7/dist-packages (from requests->fastai) (1.24.3)\n",
            "Requirement already satisfied: kiwisolver>=1.0.1 in /usr/local/lib/python3.7/dist-packages (from matplotlib->fastai) (1.3.2)\n",
            "Requirement already satisfied: pyparsing!=2.0.4,!=2.1.2,!=2.1.6,>=2.0.1 in /usr/local/lib/python3.7/dist-packages (from matplotlib->fastai) (3.0.6)\n",
            "Requirement already satisfied: cycler>=0.10 in /usr/local/lib/python3.7/dist-packages (from matplotlib->fastai) (0.11.0)\n",
            "Requirement already satisfied: python-dateutil>=2.1 in /usr/local/lib/python3.7/dist-packages (from matplotlib->fastai) (2.8.2)\n",
            "Requirement already satisfied: six>=1.5 in /usr/local/lib/python3.7/dist-packages (from python-dateutil>=2.1->matplotlib->fastai) (1.15.0)\n",
            "Requirement already satisfied: pytz>=2017.2 in /usr/local/lib/python3.7/dist-packages (from pandas->fastai) (2018.9)\n"
          ]
        }
      ]
    },
    {
      "cell_type": "code",
      "metadata": {
        "id": "316Xs5WBv0kg"
      },
      "source": [
        "# load relevant libraries\n",
        "from fastai import * \n",
        "import pandas as pd\n",
        "import numpy as np\n",
        "from functools import partial\n",
        "import io\n",
        "import os\n",
        "from fastai.text import *"
      ],
      "execution_count": null,
      "outputs": []
    },
    {
      "cell_type": "code",
      "metadata": {
        "id": "MfoKX8tKAU4Q"
      },
      "source": [
        "# # download SPAM data\n",
        "# !wget https://archive.ics.uci.edu/ml/machine-learning-databases/00228/smsspamcollection.zip\n",
        "# !unzip smsspamcollection.zip"
      ],
      "execution_count": null,
      "outputs": []
    },
    {
      "cell_type": "code",
      "metadata": {
        "id": "RKPhLwlhAbv-",
        "colab": {
          "base_uri": "https://localhost:8080/",
          "height": 202
        },
        "outputId": "c7612023-7370-485c-97f4-bde17aeea9a4"
      },
      "source": [
        "# set up data and verify\n",
        "df1 = pd.read_csv('SMSSpamCollection', sep='\\t',  header=None, names=['target', 'text'])\n",
        "df1.head()"
      ],
      "execution_count": null,
      "outputs": [
        {
          "output_type": "execute_result",
          "data": {
            "text/html": [
              "<div>\n",
              "<style scoped>\n",
              "    .dataframe tbody tr th:only-of-type {\n",
              "        vertical-align: middle;\n",
              "    }\n",
              "\n",
              "    .dataframe tbody tr th {\n",
              "        vertical-align: top;\n",
              "    }\n",
              "\n",
              "    .dataframe thead th {\n",
              "        text-align: right;\n",
              "    }\n",
              "</style>\n",
              "<table border=\"1\" class=\"dataframe\">\n",
              "  <thead>\n",
              "    <tr style=\"text-align: right;\">\n",
              "      <th></th>\n",
              "      <th>target</th>\n",
              "      <th>text</th>\n",
              "    </tr>\n",
              "  </thead>\n",
              "  <tbody>\n",
              "    <tr>\n",
              "      <th>0</th>\n",
              "      <td>ham</td>\n",
              "      <td>Go until jurong point, crazy.. Available only ...</td>\n",
              "    </tr>\n",
              "    <tr>\n",
              "      <th>1</th>\n",
              "      <td>ham</td>\n",
              "      <td>Ok lar... Joking wif u oni...</td>\n",
              "    </tr>\n",
              "    <tr>\n",
              "      <th>2</th>\n",
              "      <td>spam</td>\n",
              "      <td>Free entry in 2 a wkly comp to win FA Cup fina...</td>\n",
              "    </tr>\n",
              "    <tr>\n",
              "      <th>3</th>\n",
              "      <td>ham</td>\n",
              "      <td>U dun say so early hor... U c already then say...</td>\n",
              "    </tr>\n",
              "    <tr>\n",
              "      <th>4</th>\n",
              "      <td>ham</td>\n",
              "      <td>Nah I don't think he goes to usf, he lives aro...</td>\n",
              "    </tr>\n",
              "  </tbody>\n",
              "</table>\n",
              "</div>"
            ],
            "text/plain": [
              "  target                                               text\n",
              "0    ham  Go until jurong point, crazy.. Available only ...\n",
              "1    ham                      Ok lar... Joking wif u oni...\n",
              "2   spam  Free entry in 2 a wkly comp to win FA Cup fina...\n",
              "3    ham  U dun say so early hor... U c already then say...\n",
              "4    ham  Nah I don't think he goes to usf, he lives aro..."
            ]
          },
          "metadata": {},
          "execution_count": 38
        }
      ]
    },
    {
      "cell_type": "code",
      "metadata": {
        "id": "rorC2T1yAfWY",
        "colab": {
          "base_uri": "https://localhost:8080/"
        },
        "outputId": "712aaa20-1225-44b4-d2cf-ca3ebf7bd40c"
      },
      "source": [
        "# check distribution\n",
        "df1['target'].value_counts()"
      ],
      "execution_count": null,
      "outputs": [
        {
          "output_type": "execute_result",
          "data": {
            "text/plain": [
              "ham     4825\n",
              "spam     747\n",
              "Name: target, dtype: int64"
            ]
          },
          "metadata": {},
          "execution_count": 39
        }
      ]
    },
    {
      "cell_type": "markdown",
      "metadata": {
        "id": "snNazefHQ3yo"
      },
      "source": [
        "Split the data into training and validation datasets."
      ]
    },
    {
      "cell_type": "code",
      "metadata": {
        "id": "i4WuVTDhArhc"
      },
      "source": [
        "# split the data and check dimensions\n",
        "\n",
        "from sklearn.model_selection import train_test_split\n",
        "\n",
        "# split data into training and validation set\n",
        "df_trn, df_val = train_test_split(df1, stratify = df1['target'], test_size = 0.3, random_state = 999)"
      ],
      "execution_count": null,
      "outputs": []
    },
    {
      "cell_type": "code",
      "metadata": {
        "colab": {
          "base_uri": "https://localhost:8080/"
        },
        "id": "uyCkDbTRAyxk",
        "outputId": "99471609-7e6e-4105-a5fc-b6bde25aece8"
      },
      "source": [
        "df_trn.shape, df_val.shape"
      ],
      "execution_count": null,
      "outputs": [
        {
          "output_type": "execute_result",
          "data": {
            "text/plain": [
              "((3900, 2), (1672, 2))"
            ]
          },
          "metadata": {},
          "execution_count": 41
        }
      ]
    },
    {
      "cell_type": "code",
      "metadata": {
        "colab": {
          "base_uri": "https://localhost:8080/"
        },
        "id": "yqbEOzRWey2V",
        "outputId": "27f4a8db-a7d0-490e-c3a8-c3971c805ecd"
      },
      "source": [
        "vars(train[0])"
      ],
      "execution_count": null,
      "outputs": [
        {
          "output_type": "execute_result",
          "data": {
            "text/plain": [
              "{'label': 1,\n",
              " 'sms': 'URGENT! We are trying to contact U. Todays draw shows that you have won a £800 prize GUARANTEED. Call 09050001808 from land line. Claim M95. Valid12hrs only'}"
            ]
          },
          "metadata": {},
          "execution_count": 42
        }
      ]
    },
    {
      "cell_type": "code",
      "metadata": {
        "id": "Ndu0BCoae0TT"
      },
      "source": [
        "def createDF(data):\n",
        "  sms,label = [],[]\n",
        "  for batch in data:\n",
        "    sms.append(batch.sms)\n",
        "    label.append(batch.label)\n",
        "  return pd.DataFrame({'target':label,'text':sms})"
      ],
      "execution_count": null,
      "outputs": []
    },
    {
      "cell_type": "code",
      "metadata": {
        "id": "5m7lKnr7e1U1"
      },
      "source": [
        "df_train = createDF(train)\n",
        "df_valid = createDF(valid)\n",
        "df_test = createDF(test)"
      ],
      "execution_count": null,
      "outputs": []
    },
    {
      "cell_type": "markdown",
      "metadata": {
        "id": "kuGx5mebBfEm"
      },
      "source": [
        "### Creating the language model"
      ]
    },
    {
      "cell_type": "code",
      "metadata": {
        "id": "S6yWJklsBdPp",
        "colab": {
          "base_uri": "https://localhost:8080/",
          "height": 90
        },
        "outputId": "769cdef5-ca32-478d-872b-93f53e11aebf"
      },
      "source": [
        "# create pretrained language model data\n",
        "data_lm = TextLMDataBunch.from_df(train_df = df_train, valid_df = df_valid, test_df= df_test, path = \"\")\n",
        "lang_mod = language_model_learner(data_lm,  arch = AWD_LSTM, pretrained = True, drop_mult=1.)"
      ],
      "execution_count": null,
      "outputs": [
        {
          "output_type": "display_data",
          "data": {
            "text/html": [
              ""
            ],
            "text/plain": [
              "<IPython.core.display.HTML object>"
            ]
          },
          "metadata": {}
        },
        {
          "output_type": "stream",
          "name": "stderr",
          "text": [
            "/usr/local/lib/python3.7/dist-packages/fastai/core.py:302: VisibleDeprecationWarning: Creating an ndarray from ragged nested sequences (which is a list-or-tuple of lists-or-tuples-or ndarrays with different lengths or shapes) is deprecated. If you meant to do this, you must specify 'dtype=object' when creating the ndarray\n",
            "  return np.array(a, dtype=dtype, **kwargs)\n"
          ]
        },
        {
          "output_type": "display_data",
          "data": {
            "text/html": [
              ""
            ],
            "text/plain": [
              "<IPython.core.display.HTML object>"
            ]
          },
          "metadata": {}
        },
        {
          "output_type": "display_data",
          "data": {
            "text/html": [
              ""
            ],
            "text/plain": [
              "<IPython.core.display.HTML object>"
            ]
          },
          "metadata": {}
        },
        {
          "output_type": "stream",
          "name": "stdout",
          "text": [
            "Downloading https://s3.amazonaws.com/fast-ai-modelzoo/wt103-fwd.tgz\n"
          ]
        },
        {
          "output_type": "display_data",
          "data": {
            "text/html": [
              ""
            ],
            "text/plain": [
              "<IPython.core.display.HTML object>"
            ]
          },
          "metadata": {}
        }
      ]
    },
    {
      "cell_type": "markdown",
      "metadata": {
        "id": "lT_aVqCRB8DJ"
      },
      "source": [
        "### Testing the language model\n"
      ]
    },
    {
      "cell_type": "code",
      "metadata": {
        "id": "PlZgAMGbCZXY",
        "colab": {
          "base_uri": "https://localhost:8080/"
        },
        "outputId": "1007eb98-86a7-4d7a-ca90-69af6baa2853"
      },
      "source": [
        "for i in range(5):\n",
        "  print(lang_mod.predict(\"The problem usually starts when\", n_words=10))"
      ],
      "execution_count": null,
      "outputs": [
        {
          "output_type": "stream",
          "name": "stdout",
          "text": [
            "The problem usually starts when the first two starts are common . Because of\n",
            "The problem usually starts when Head and head are sit on a sofa ,\n",
            "The problem usually starts when the amount of time necessary to complete a match is\n",
            "The problem usually starts when 3D s 3D is usually the idea of\n",
            "The problem usually starts when the two best - available or different players are either\n"
          ]
        }
      ]
    },
    {
      "cell_type": "code",
      "metadata": {
        "colab": {
          "base_uri": "https://localhost:8080/"
        },
        "id": "iWDAs7SPe9mY",
        "outputId": "954d3b5d-5910-4773-dd5e-afe79f3cd7ea"
      },
      "source": [
        "for i in range(5):\n",
        "  print(lang_mod.predict(\"Nyquist frequency is\", n_words=10))"
      ],
      "execution_count": null,
      "outputs": [
        {
          "output_type": "stream",
          "name": "stdout",
          "text": [
            "Nyquist frequency is a Tuesday ; it is used to celebrate a\n",
            "Nyquist frequency is a show by American actor John Agalla\n",
            "Nyquist frequency is a character of the New Common Day\n",
            "Nyquist frequency is American skype explicit in their reference to a\n",
            "Nyquist frequency is a British horny book about his partner 's life\n"
          ]
        }
      ]
    },
    {
      "cell_type": "code",
      "metadata": {
        "colab": {
          "base_uri": "https://localhost:8080/"
        },
        "id": "t0-l86L7e_JJ",
        "outputId": "b9abf747-dab4-4c29-82e3-66c0000ce729"
      },
      "source": [
        "for i in range(5):\n",
        "  print(lang_mod.predict(\"Humans are\", n_words=10))"
      ],
      "execution_count": null,
      "outputs": [
        {
          "output_type": "stream",
          "name": "stdout",
          "text": [
            "Humans are American Indian school members . They were\n",
            "Humans are well - off simple English small - name islands\n",
            "Humans are true kinda things that are not , and do not\n",
            "Humans are laid together on Earth by however recd Earth\n",
            "Humans are made possible by the American Red Ship\n"
          ]
        }
      ]
    },
    {
      "cell_type": "code",
      "metadata": {
        "id": "2Z6lG13vRnbo",
        "colab": {
          "base_uri": "https://localhost:8080/",
          "height": 542
        },
        "outputId": "032d7525-af8a-4ef1-cb0d-526e8c2ea0d0"
      },
      "source": [
        "# fine-tune language model data\n",
        "lang_mod.fit_one_cycle(4, max_lr= 5e-02)\n",
        "lang_mod.freeze_to(-1)\n",
        "lang_mod.fit_one_cycle(3, slice(1e-2/(2.6**4), 1e-2))\n",
        "lang_mod.freeze_to(-2)\n",
        "lang_mod.fit_one_cycle(3, slice(3e-3/(2.6**4), 1e-3))\n",
        "lang_mod.unfreeze()\n",
        "lang_mod.fit_one_cycle(3, slice(3e-3/(2.6**4), 1e-3))\n",
        "\n",
        "# save language model\n",
        "lang_mod.save_encoder('my_awsome_encoder')"
      ],
      "execution_count": null,
      "outputs": [
        {
          "output_type": "display_data",
          "data": {
            "text/html": [
              "<table border=\"1\" class=\"dataframe\">\n",
              "  <thead>\n",
              "    <tr style=\"text-align: left;\">\n",
              "      <th>epoch</th>\n",
              "      <th>train_loss</th>\n",
              "      <th>valid_loss</th>\n",
              "      <th>accuracy</th>\n",
              "      <th>time</th>\n",
              "    </tr>\n",
              "  </thead>\n",
              "  <tbody>\n",
              "    <tr>\n",
              "      <td>0</td>\n",
              "      <td>5.567480</td>\n",
              "      <td>3.940609</td>\n",
              "      <td>0.271429</td>\n",
              "      <td>00:06</td>\n",
              "    </tr>\n",
              "    <tr>\n",
              "      <td>1</td>\n",
              "      <td>4.835373</td>\n",
              "      <td>3.966326</td>\n",
              "      <td>0.328571</td>\n",
              "      <td>00:06</td>\n",
              "    </tr>\n",
              "    <tr>\n",
              "      <td>2</td>\n",
              "      <td>4.377582</td>\n",
              "      <td>3.808568</td>\n",
              "      <td>0.300000</td>\n",
              "      <td>00:06</td>\n",
              "    </tr>\n",
              "    <tr>\n",
              "      <td>3</td>\n",
              "      <td>4.062694</td>\n",
              "      <td>3.793522</td>\n",
              "      <td>0.285714</td>\n",
              "      <td>00:06</td>\n",
              "    </tr>\n",
              "  </tbody>\n",
              "</table>"
            ],
            "text/plain": [
              "<IPython.core.display.HTML object>"
            ]
          },
          "metadata": {}
        },
        {
          "output_type": "display_data",
          "data": {
            "text/html": [
              "<table border=\"1\" class=\"dataframe\">\n",
              "  <thead>\n",
              "    <tr style=\"text-align: left;\">\n",
              "      <th>epoch</th>\n",
              "      <th>train_loss</th>\n",
              "      <th>valid_loss</th>\n",
              "      <th>accuracy</th>\n",
              "      <th>time</th>\n",
              "    </tr>\n",
              "  </thead>\n",
              "  <tbody>\n",
              "    <tr>\n",
              "      <td>0</td>\n",
              "      <td>3.596324</td>\n",
              "      <td>3.758959</td>\n",
              "      <td>0.300000</td>\n",
              "      <td>00:06</td>\n",
              "    </tr>\n",
              "    <tr>\n",
              "      <td>1</td>\n",
              "      <td>3.543268</td>\n",
              "      <td>3.761344</td>\n",
              "      <td>0.300000</td>\n",
              "      <td>00:06</td>\n",
              "    </tr>\n",
              "    <tr>\n",
              "      <td>2</td>\n",
              "      <td>3.478009</td>\n",
              "      <td>3.760065</td>\n",
              "      <td>0.300000</td>\n",
              "      <td>00:06</td>\n",
              "    </tr>\n",
              "  </tbody>\n",
              "</table>"
            ],
            "text/plain": [
              "<IPython.core.display.HTML object>"
            ]
          },
          "metadata": {}
        },
        {
          "output_type": "display_data",
          "data": {
            "text/html": [
              "<table border=\"1\" class=\"dataframe\">\n",
              "  <thead>\n",
              "    <tr style=\"text-align: left;\">\n",
              "      <th>epoch</th>\n",
              "      <th>train_loss</th>\n",
              "      <th>valid_loss</th>\n",
              "      <th>accuracy</th>\n",
              "      <th>time</th>\n",
              "    </tr>\n",
              "  </thead>\n",
              "  <tbody>\n",
              "    <tr>\n",
              "      <td>0</td>\n",
              "      <td>3.403165</td>\n",
              "      <td>3.765799</td>\n",
              "      <td>0.300000</td>\n",
              "      <td>00:06</td>\n",
              "    </tr>\n",
              "    <tr>\n",
              "      <td>1</td>\n",
              "      <td>3.376465</td>\n",
              "      <td>3.782758</td>\n",
              "      <td>0.300000</td>\n",
              "      <td>00:06</td>\n",
              "    </tr>\n",
              "    <tr>\n",
              "      <td>2</td>\n",
              "      <td>3.356297</td>\n",
              "      <td>3.787157</td>\n",
              "      <td>0.285714</td>\n",
              "      <td>00:06</td>\n",
              "    </tr>\n",
              "  </tbody>\n",
              "</table>"
            ],
            "text/plain": [
              "<IPython.core.display.HTML object>"
            ]
          },
          "metadata": {}
        },
        {
          "output_type": "display_data",
          "data": {
            "text/html": [
              "<table border=\"1\" class=\"dataframe\">\n",
              "  <thead>\n",
              "    <tr style=\"text-align: left;\">\n",
              "      <th>epoch</th>\n",
              "      <th>train_loss</th>\n",
              "      <th>valid_loss</th>\n",
              "      <th>accuracy</th>\n",
              "      <th>time</th>\n",
              "    </tr>\n",
              "  </thead>\n",
              "  <tbody>\n",
              "    <tr>\n",
              "      <td>0</td>\n",
              "      <td>3.332972</td>\n",
              "      <td>3.801882</td>\n",
              "      <td>0.257143</td>\n",
              "      <td>00:08</td>\n",
              "    </tr>\n",
              "    <tr>\n",
              "      <td>1</td>\n",
              "      <td>3.283875</td>\n",
              "      <td>3.780165</td>\n",
              "      <td>0.285714</td>\n",
              "      <td>00:08</td>\n",
              "    </tr>\n",
              "    <tr>\n",
              "      <td>2</td>\n",
              "      <td>3.242095</td>\n",
              "      <td>3.788045</td>\n",
              "      <td>0.285714</td>\n",
              "      <td>00:08</td>\n",
              "    </tr>\n",
              "  </tbody>\n",
              "</table>"
            ],
            "text/plain": [
              "<IPython.core.display.HTML object>"
            ]
          },
          "metadata": {}
        }
      ]
    },
    {
      "cell_type": "markdown",
      "metadata": {
        "id": "KT-Y6pB1SrGg"
      },
      "source": [
        "### Creating the Classification model"
      ]
    },
    {
      "cell_type": "code",
      "metadata": {
        "id": "MIvfaeOfTDZV",
        "colab": {
          "base_uri": "https://localhost:8080/",
          "height": 125
        },
        "outputId": "7e42b529-7fae-48f4-a8a2-b42d20b60140"
      },
      "source": [
        "# Classifier model data\n",
        "data_clas = TextClasDataBunch.from_df(path = \"\", train_df = df_train,  valid_df = df_valid, test_df= df_test, vocab=data_lm.train_ds.vocab, bs=32)"
      ],
      "execution_count": null,
      "outputs": [
        {
          "output_type": "display_data",
          "data": {
            "text/html": [
              ""
            ],
            "text/plain": [
              "<IPython.core.display.HTML object>"
            ]
          },
          "metadata": {}
        },
        {
          "output_type": "stream",
          "name": "stderr",
          "text": [
            "/usr/local/lib/python3.7/dist-packages/fastai/core.py:302: VisibleDeprecationWarning: Creating an ndarray from ragged nested sequences (which is a list-or-tuple of lists-or-tuples-or ndarrays with different lengths or shapes) is deprecated. If you meant to do this, you must specify 'dtype=object' when creating the ndarray\n",
            "  return np.array(a, dtype=dtype, **kwargs)\n"
          ]
        },
        {
          "output_type": "display_data",
          "data": {
            "text/html": [
              ""
            ],
            "text/plain": [
              "<IPython.core.display.HTML object>"
            ]
          },
          "metadata": {}
        },
        {
          "output_type": "display_data",
          "data": {
            "text/html": [
              ""
            ],
            "text/plain": [
              "<IPython.core.display.HTML object>"
            ]
          },
          "metadata": {}
        },
        {
          "output_type": "stream",
          "name": "stderr",
          "text": [
            "/usr/local/lib/python3.7/dist-packages/numpy/core/_asarray.py:83: VisibleDeprecationWarning: Creating an ndarray from ragged nested sequences (which is a list-or-tuple of lists-or-tuples-or ndarrays with different lengths or shapes) is deprecated. If you meant to do this, you must specify 'dtype=object' when creating the ndarray\n",
            "  return array(a, dtype, copy=False, order=order)\n",
            "<string>:6: VisibleDeprecationWarning: Creating an ndarray from ragged nested sequences (which is a list-or-tuple of lists-or-tuples-or ndarrays with different lengths or shapes) is deprecated. If you meant to do this, you must specify 'dtype=object' when creating the ndarray\n"
          ]
        }
      ]
    },
    {
      "cell_type": "code",
      "metadata": {
        "id": "Kc2fiXTCTjHh",
        "colab": {
          "base_uri": "https://localhost:8080/",
          "height": 358
        },
        "outputId": "9ba91ff9-3fc1-4479-9e06-c9b89a95968f"
      },
      "source": [
        "data_clas.show_batch()"
      ],
      "execution_count": null,
      "outputs": [
        {
          "output_type": "stream",
          "name": "stderr",
          "text": [
            "/usr/local/lib/python3.7/dist-packages/numpy/core/_asarray.py:83: VisibleDeprecationWarning: Creating an ndarray from ragged nested sequences (which is a list-or-tuple of lists-or-tuples-or ndarrays with different lengths or shapes) is deprecated. If you meant to do this, you must specify 'dtype=object' when creating the ndarray\n",
            "  return array(a, dtype, copy=False, order=order)\n",
            "<string>:6: VisibleDeprecationWarning: Creating an ndarray from ragged nested sequences (which is a list-or-tuple of lists-or-tuples-or ndarrays with different lengths or shapes) is deprecated. If you meant to do this, you must specify 'dtype=object' when creating the ndarray\n"
          ]
        },
        {
          "output_type": "display_data",
          "data": {
            "text/html": [
              "<table border=\"1\" class=\"dataframe\">\n",
              "  <thead>\n",
              "    <tr style=\"text-align: right;\">\n",
              "      <th>text</th>\n",
              "      <th>target</th>\n",
              "    </tr>\n",
              "  </thead>\n",
              "  <tbody>\n",
              "    <tr>\n",
              "      <td>xxbos xxmaj the last thing i ever wanted to do was hurt you . xxmaj and i did n't think it would have . xxmaj you 'd laugh , be embarassed , delete the xxunk and keep going . xxmaj but as far as i knew , it was n't even up . xxmaj the fact that you even felt like i would do it to hurt you shows you</td>\n",
              "      <td>ham</td>\n",
              "    </tr>\n",
              "    <tr>\n",
              "      <td>xxbos xxmaj for me the love should start with xxunk should feel that i need her every time around xxunk should be the first thing which comes in my thoughts . i would start the day and end it with xxunk should be there every time i xxunk will be then when my every breath has her xxunk life should happen around xxunk life will be named to her .</td>\n",
              "      <td>ham</td>\n",
              "    </tr>\n",
              "    <tr>\n",
              "      <td>xxbos xxmaj how to xxmaj make a girl xxmaj happy ? xxmaj it 's not at all difficult to make girls happy . u only need to be ... 1 . a friend 2 . xxmaj xxunk 3 . xxmaj lover 4 . xxmaj xxunk . . . &lt; # &gt; . xxmaj good xxunk &lt; # &gt; . xxmaj xxunk &lt; # &gt; . xxmaj good boyfriend &lt; #</td>\n",
              "      <td>ham</td>\n",
              "    </tr>\n",
              "    <tr>\n",
              "      <td>xxbos xxmaj indians r poor but xxmaj india is not a poor country . xxmaj says one of the swiss bank xxunk . xxmaj he says that \" &lt; # &gt; xxunk crore \" of xxmaj indian money is xxunk in swiss banks which can be used for ' xxunk ' budget for &lt; # &gt; yrs . xxmaj can give &lt; # &gt; crore xxunk to all xxmaj indians</td>\n",
              "      <td>ham</td>\n",
              "    </tr>\n",
              "    <tr>\n",
              "      <td>xxbos no , i * did n't * mean to post it . i wrote it , and like so many other times i 've xxunk stuff to you , i let it sit there . it xxup was what i was feeling at the time . i was angry . xxmaj before i left , i hit send , then stop . xxmaj it was n't there . i</td>\n",
              "      <td>ham</td>\n",
              "    </tr>\n",
              "  </tbody>\n",
              "</table>"
            ],
            "text/plain": [
              "<IPython.core.display.HTML object>"
            ]
          },
          "metadata": {}
        }
      ]
    },
    {
      "cell_type": "code",
      "metadata": {
        "id": "6sjwotSITjHi"
      },
      "source": [
        "# creating the classifier\n",
        "learn_classifier = text_classifier_learner(data_clas, drop_mult=0.7, arch = AWD_LSTM)"
      ],
      "execution_count": null,
      "outputs": []
    },
    {
      "cell_type": "code",
      "metadata": {
        "id": "sfzqId9jTjHi",
        "colab": {
          "base_uri": "https://localhost:8080/"
        },
        "outputId": "f29bdc64-3c13-4b81-fa80-3f46ee10a5e0"
      },
      "source": [
        "# load language model\n",
        "learn_classifier.load_encoder('my_awsome_encoder')"
      ],
      "execution_count": null,
      "outputs": [
        {
          "output_type": "execute_result",
          "data": {
            "text/plain": [
              "RNNLearner(data=TextClasDataBunch;\n",
              "\n",
              "Train: LabelList (3900 items)\n",
              "x: TextList\n",
              "xxbos i liked your new house,xxbos xxmaj xxunk i 'm walking in xxunk now ü faster come down ... xxmaj me very hungry ...,xxbos xxmaj wan2 win a meet+greet with xxmaj westlife 4 u or a m8 ? xxmaj they are currently on what tour ? 1)unbreakable , 2)untamed , 3)unkempt . xxmaj text 1,2 or 3 to 83049 . xxmaj cost 50p + std text,xxbos xxmaj otherwise had part time job na - tuition ..,xxbos xxmaj wait , do you know if xxunk in town ? i bet she does hella drugs !\n",
              "y: CategoryList\n",
              "ham,ham,spam,ham,ham\n",
              "Path: .;\n",
              "\n",
              "Valid: LabelList (1672 items)\n",
              "x: TextList\n",
              "xxbos xxmaj not a lot has happened here . xxmaj feels very xxunk . xxmaj xxunk is at her xxunk and xxunk is working lots . xxmaj just me and xxunk in at the mo . xxmaj how have you been ?,xxbos xxmaj the current xxunk bid is xxunk . xxmaj to xxunk this auction send xxup out . xxmaj customer xxmaj care : xxunk,xxbos xxmaj are you free xxunk i call now ?,xxbos xxmaj cold . xxmaj do nt be sad dear,xxbos xxmaj cool , text me when you 're xxunk\n",
              "y: CategoryList\n",
              "ham,spam,ham,ham,ham\n",
              "Path: .;\n",
              "\n",
              "Test: LabelList (1114 items)\n",
              "x: TextList\n",
              "xxbos xxmaj hope ur head does n't hurt 2 much ! xxmaj am xxunk my way through a xxunk of xxunk ! xxmaj staying in with a xxunk tonight come round if you like .,xxbos xxmaj oops i did have it , < # > ?,xxbos i know you are thinkin malaria . xxmaj but relax , children ca nt handle malaria . xxmaj she would have been worse and its gastroenteritis . xxmaj if she takes enough to replace her loss her temp will reduce . xxmaj and if you give her malaria meds now she will just vomit . xxmaj its a self limiting illness she has which means in a few days it will completely stop,xxbos xxmaj wat time do u wan 2 meet me later ?,xxbos xxmaj as per your request ' xxmaj xxunk ( xxmaj xxunk ) ' has been set as your callertune for all xxmaj callers . xxmaj press * 9 to copy your friends xxmaj callertune\n",
              "y: EmptyLabelList\n",
              ",,,,\n",
              "Path: ., model=SequentialRNN(\n",
              "  (0): MultiBatchEncoder(\n",
              "    (module): AWD_LSTM(\n",
              "      (encoder): Embedding(3552, 400, padding_idx=1)\n",
              "      (encoder_dp): EmbeddingDropout(\n",
              "        (emb): Embedding(3552, 400, padding_idx=1)\n",
              "      )\n",
              "      (rnns): ModuleList(\n",
              "        (0): WeightDropout(\n",
              "          (module): LSTM(400, 1152, batch_first=True)\n",
              "        )\n",
              "        (1): WeightDropout(\n",
              "          (module): LSTM(1152, 1152, batch_first=True)\n",
              "        )\n",
              "        (2): WeightDropout(\n",
              "          (module): LSTM(1152, 400, batch_first=True)\n",
              "        )\n",
              "      )\n",
              "      (input_dp): RNNDropout()\n",
              "      (hidden_dps): ModuleList(\n",
              "        (0): RNNDropout()\n",
              "        (1): RNNDropout()\n",
              "        (2): RNNDropout()\n",
              "      )\n",
              "    )\n",
              "  )\n",
              "  (1): PoolingLinearClassifier(\n",
              "    (layers): Sequential(\n",
              "      (0): BatchNorm1d(1200, eps=1e-05, momentum=0.1, affine=True, track_running_stats=True)\n",
              "      (1): Dropout(p=0.27999999999999997, inplace=False)\n",
              "      (2): Linear(in_features=1200, out_features=50, bias=True)\n",
              "      (3): ReLU(inplace=True)\n",
              "      (4): BatchNorm1d(50, eps=1e-05, momentum=0.1, affine=True, track_running_stats=True)\n",
              "      (5): Dropout(p=0.1, inplace=False)\n",
              "      (6): Linear(in_features=50, out_features=2, bias=True)\n",
              "    )\n",
              "  )\n",
              "), opt_func=functools.partial(<class 'torch.optim.adam.Adam'>, betas=(0.9, 0.99)), loss_func=FlattenedLoss of CrossEntropyLoss(), metrics=[<function accuracy at 0x7f343aecb4d0>], true_wd=True, bn_wd=True, wd=0.01, train_bn=True, path=PosixPath('.'), model_dir='models', callback_fns=[functools.partial(<class 'fastai.basic_train.Recorder'>, add_time=True, silent=False)], callbacks=[RNNTrainer\n",
              "learn: ...\n",
              "alpha: 2.0\n",
              "beta: 1.0], layer_groups=[Sequential(\n",
              "  (0): Embedding(3552, 400, padding_idx=1)\n",
              "  (1): EmbeddingDropout(\n",
              "    (emb): Embedding(3552, 400, padding_idx=1)\n",
              "  )\n",
              "), Sequential(\n",
              "  (0): WeightDropout(\n",
              "    (module): LSTM(400, 1152, batch_first=True)\n",
              "  )\n",
              "  (1): RNNDropout()\n",
              "), Sequential(\n",
              "  (0): WeightDropout(\n",
              "    (module): LSTM(1152, 1152, batch_first=True)\n",
              "  )\n",
              "  (1): RNNDropout()\n",
              "), Sequential(\n",
              "  (0): WeightDropout(\n",
              "    (module): LSTM(1152, 400, batch_first=True)\n",
              "  )\n",
              "  (1): RNNDropout()\n",
              "), Sequential(\n",
              "  (0): PoolingLinearClassifier(\n",
              "    (layers): Sequential(\n",
              "      (0): BatchNorm1d(1200, eps=1e-05, momentum=0.1, affine=True, track_running_stats=True)\n",
              "      (1): Dropout(p=0.27999999999999997, inplace=False)\n",
              "      (2): Linear(in_features=1200, out_features=50, bias=True)\n",
              "      (3): ReLU(inplace=True)\n",
              "      (4): BatchNorm1d(50, eps=1e-05, momentum=0.1, affine=True, track_running_stats=True)\n",
              "      (5): Dropout(p=0.1, inplace=False)\n",
              "      (6): Linear(in_features=50, out_features=2, bias=True)\n",
              "    )\n",
              "  )\n",
              ")], add_time=True, silent=False)"
            ]
          },
          "metadata": {},
          "execution_count": 53
        }
      ]
    },
    {
      "cell_type": "code",
      "metadata": {
        "id": "yQzxgvqSTjHi",
        "colab": {
          "base_uri": "https://localhost:8080/",
          "height": 483
        },
        "outputId": "e103b95c-89d7-4b08-f19b-2b07e767e85d"
      },
      "source": [
        "# train classifier\n",
        "learn_classifier.lr_find()\n",
        "learn_classifier.recorder.plot(suggestion=True)"
      ],
      "execution_count": null,
      "outputs": [
        {
          "output_type": "display_data",
          "data": {
            "text/html": [
              "\n",
              "    <div>\n",
              "        <style>\n",
              "            /* Turns off some styling */\n",
              "            progress {\n",
              "                /* gets rid of default border in Firefox and Opera. */\n",
              "                border: none;\n",
              "                /* Needs to be in here for Safari polyfill so background images work as expected. */\n",
              "                background-size: auto;\n",
              "            }\n",
              "            .progress-bar-interrupted, .progress-bar-interrupted::-webkit-progress-bar {\n",
              "                background: #F44336;\n",
              "            }\n",
              "        </style>\n",
              "      <progress value='0' class='' max='1' style='width:300px; height:20px; vertical-align: middle;'></progress>\n",
              "      0.00% [0/1 00:00<00:00]\n",
              "    </div>\n",
              "    \n",
              "<table border=\"1\" class=\"dataframe\">\n",
              "  <thead>\n",
              "    <tr style=\"text-align: left;\">\n",
              "      <th>epoch</th>\n",
              "      <th>train_loss</th>\n",
              "      <th>valid_loss</th>\n",
              "      <th>accuracy</th>\n",
              "      <th>time</th>\n",
              "    </tr>\n",
              "  </thead>\n",
              "  <tbody>\n",
              "  </tbody>\n",
              "</table><p>\n",
              "\n",
              "    <div>\n",
              "        <style>\n",
              "            /* Turns off some styling */\n",
              "            progress {\n",
              "                /* gets rid of default border in Firefox and Opera. */\n",
              "                border: none;\n",
              "                /* Needs to be in here for Safari polyfill so background images work as expected. */\n",
              "                background-size: auto;\n",
              "            }\n",
              "            .progress-bar-interrupted, .progress-bar-interrupted::-webkit-progress-bar {\n",
              "                background: #F44336;\n",
              "            }\n",
              "        </style>\n",
              "      <progress value='93' class='' max='121' style='width:300px; height:20px; vertical-align: middle;'></progress>\n",
              "      76.86% [93/121 00:05<00:01 1.1127]\n",
              "    </div>\n",
              "    "
            ],
            "text/plain": [
              "<IPython.core.display.HTML object>"
            ]
          },
          "metadata": {}
        },
        {
          "output_type": "stream",
          "name": "stderr",
          "text": [
            "/usr/local/lib/python3.7/dist-packages/numpy/core/_asarray.py:83: VisibleDeprecationWarning: Creating an ndarray from ragged nested sequences (which is a list-or-tuple of lists-or-tuples-or ndarrays with different lengths or shapes) is deprecated. If you meant to do this, you must specify 'dtype=object' when creating the ndarray\n",
            "  return array(a, dtype, copy=False, order=order)\n",
            "<string>:6: VisibleDeprecationWarning: Creating an ndarray from ragged nested sequences (which is a list-or-tuple of lists-or-tuples-or ndarrays with different lengths or shapes) is deprecated. If you meant to do this, you must specify 'dtype=object' when creating the ndarray\n"
          ]
        },
        {
          "output_type": "stream",
          "name": "stdout",
          "text": [
            "LR Finder is complete, type {learner_name}.recorder.plot() to see the graph.\n",
            "Min numerical gradient: 1.10E+00\n",
            "Min loss divided by 10: 5.25E-02\n"
          ]
        },
        {
          "output_type": "display_data",
          "data": {
            "image/png": "[encoded data removed]",
            "text/plain": [
              "<Figure size 432x288 with 1 Axes>"
            ]
          },
          "metadata": {
            "needs_background": "light"
          }
        }
      ]
    },
    {
      "cell_type": "code",
      "metadata": {
        "id": "7boiRtwsTjHi",
        "colab": {
          "base_uri": "https://localhost:8080/",
          "height": 488
        },
        "outputId": "6507f5d2-d4f9-455a-864c-4452c9e716dd"
      },
      "source": [
        "learn_classifier.fit_one_cycle(5, max_lr=1e-2, moms=(0.8,0.7))"
      ],
      "execution_count": null,
      "outputs": [
        {
          "output_type": "display_data",
          "data": {
            "text/html": [
              "<table border=\"1\" class=\"dataframe\">\n",
              "  <thead>\n",
              "    <tr style=\"text-align: left;\">\n",
              "      <th>epoch</th>\n",
              "      <th>train_loss</th>\n",
              "      <th>valid_loss</th>\n",
              "      <th>accuracy</th>\n",
              "      <th>time</th>\n",
              "    </tr>\n",
              "  </thead>\n",
              "  <tbody>\n",
              "    <tr>\n",
              "      <td>0</td>\n",
              "      <td>0.356379</td>\n",
              "      <td>0.092090</td>\n",
              "      <td>0.977871</td>\n",
              "      <td>00:09</td>\n",
              "    </tr>\n",
              "    <tr>\n",
              "      <td>1</td>\n",
              "      <td>0.183426</td>\n",
              "      <td>0.070037</td>\n",
              "      <td>0.983852</td>\n",
              "      <td>00:08</td>\n",
              "    </tr>\n",
              "    <tr>\n",
              "      <td>2</td>\n",
              "      <td>0.115915</td>\n",
              "      <td>0.088985</td>\n",
              "      <td>0.982057</td>\n",
              "      <td>00:08</td>\n",
              "    </tr>\n",
              "    <tr>\n",
              "      <td>3</td>\n",
              "      <td>0.087863</td>\n",
              "      <td>0.104869</td>\n",
              "      <td>0.979067</td>\n",
              "      <td>00:08</td>\n",
              "    </tr>\n",
              "    <tr>\n",
              "      <td>4</td>\n",
              "      <td>0.067741</td>\n",
              "      <td>0.095811</td>\n",
              "      <td>0.981459</td>\n",
              "      <td>00:08</td>\n",
              "    </tr>\n",
              "  </tbody>\n",
              "</table>"
            ],
            "text/plain": [
              "<IPython.core.display.HTML object>"
            ]
          },
          "metadata": {}
        },
        {
          "output_type": "stream",
          "name": "stderr",
          "text": [
            "/usr/local/lib/python3.7/dist-packages/numpy/core/_asarray.py:83: VisibleDeprecationWarning: Creating an ndarray from ragged nested sequences (which is a list-or-tuple of lists-or-tuples-or ndarrays with different lengths or shapes) is deprecated. If you meant to do this, you must specify 'dtype=object' when creating the ndarray\n",
            "  return array(a, dtype, copy=False, order=order)\n",
            "<string>:6: VisibleDeprecationWarning: Creating an ndarray from ragged nested sequences (which is a list-or-tuple of lists-or-tuples-or ndarrays with different lengths or shapes) is deprecated. If you meant to do this, you must specify 'dtype=object' when creating the ndarray\n",
            "/usr/local/lib/python3.7/dist-packages/numpy/core/_asarray.py:83: VisibleDeprecationWarning: Creating an ndarray from ragged nested sequences (which is a list-or-tuple of lists-or-tuples-or ndarrays with different lengths or shapes) is deprecated. If you meant to do this, you must specify 'dtype=object' when creating the ndarray\n",
            "  return array(a, dtype, copy=False, order=order)\n",
            "<string>:6: VisibleDeprecationWarning: Creating an ndarray from ragged nested sequences (which is a list-or-tuple of lists-or-tuples-or ndarrays with different lengths or shapes) is deprecated. If you meant to do this, you must specify 'dtype=object' when creating the ndarray\n",
            "/usr/local/lib/python3.7/dist-packages/numpy/core/_asarray.py:83: VisibleDeprecationWarning: Creating an ndarray from ragged nested sequences (which is a list-or-tuple of lists-or-tuples-or ndarrays with different lengths or shapes) is deprecated. If you meant to do this, you must specify 'dtype=object' when creating the ndarray\n",
            "  return array(a, dtype, copy=False, order=order)\n",
            "<string>:6: VisibleDeprecationWarning: Creating an ndarray from ragged nested sequences (which is a list-or-tuple of lists-or-tuples-or ndarrays with different lengths or shapes) is deprecated. If you meant to do this, you must specify 'dtype=object' when creating the ndarray\n",
            "/usr/local/lib/python3.7/dist-packages/numpy/core/_asarray.py:83: VisibleDeprecationWarning: Creating an ndarray from ragged nested sequences (which is a list-or-tuple of lists-or-tuples-or ndarrays with different lengths or shapes) is deprecated. If you meant to do this, you must specify 'dtype=object' when creating the ndarray\n",
            "  return array(a, dtype, copy=False, order=order)\n",
            "<string>:6: VisibleDeprecationWarning: Creating an ndarray from ragged nested sequences (which is a list-or-tuple of lists-or-tuples-or ndarrays with different lengths or shapes) is deprecated. If you meant to do this, you must specify 'dtype=object' when creating the ndarray\n",
            "/usr/local/lib/python3.7/dist-packages/numpy/core/_asarray.py:83: VisibleDeprecationWarning: Creating an ndarray from ragged nested sequences (which is a list-or-tuple of lists-or-tuples-or ndarrays with different lengths or shapes) is deprecated. If you meant to do this, you must specify 'dtype=object' when creating the ndarray\n",
            "  return array(a, dtype, copy=False, order=order)\n",
            "<string>:6: VisibleDeprecationWarning: Creating an ndarray from ragged nested sequences (which is a list-or-tuple of lists-or-tuples-or ndarrays with different lengths or shapes) is deprecated. If you meant to do this, you must specify 'dtype=object' when creating the ndarray\n"
          ]
        }
      ]
    },
    {
      "cell_type": "code",
      "metadata": {
        "id": "ToR6na02TjHi",
        "colab": {
          "base_uri": "https://localhost:8080/",
          "height": 278
        },
        "outputId": "c21daa78-b7f8-4666-e7a7-711dd23093ac"
      },
      "source": [
        "learn_classifier.recorder.plot_losses()"
      ],
      "execution_count": null,
      "outputs": [
        {
          "output_type": "display_data",
          "data": {
            "image/png": "[encoded data removed]",
            "text/plain": [
              "<Figure size 432x288 with 1 Axes>"
            ]
          },
          "metadata": {
            "needs_background": "light"
          }
        }
      ]
    },
    {
      "cell_type": "code",
      "metadata": {
        "id": "BLHJl3oQTjHi",
        "colab": {
          "base_uri": "https://localhost:8080/",
          "height": 483
        },
        "outputId": "8808e61c-a81f-4b55-e953-9717c447dee5"
      },
      "source": [
        "lang_mod.freeze_to(-1)\n",
        "\n",
        "learn_classifier.lr_find()\n",
        "learn_classifier.recorder.plot(suggestion=True)"
      ],
      "execution_count": null,
      "outputs": [
        {
          "output_type": "display_data",
          "data": {
            "text/html": [
              "\n",
              "    <div>\n",
              "        <style>\n",
              "            /* Turns off some styling */\n",
              "            progress {\n",
              "                /* gets rid of default border in Firefox and Opera. */\n",
              "                border: none;\n",
              "                /* Needs to be in here for Safari polyfill so background images work as expected. */\n",
              "                background-size: auto;\n",
              "            }\n",
              "            .progress-bar-interrupted, .progress-bar-interrupted::-webkit-progress-bar {\n",
              "                background: #F44336;\n",
              "            }\n",
              "        </style>\n",
              "      <progress value='0' class='' max='1' style='width:300px; height:20px; vertical-align: middle;'></progress>\n",
              "      0.00% [0/1 00:00<00:00]\n",
              "    </div>\n",
              "    \n",
              "<table border=\"1\" class=\"dataframe\">\n",
              "  <thead>\n",
              "    <tr style=\"text-align: left;\">\n",
              "      <th>epoch</th>\n",
              "      <th>train_loss</th>\n",
              "      <th>valid_loss</th>\n",
              "      <th>accuracy</th>\n",
              "      <th>time</th>\n",
              "    </tr>\n",
              "  </thead>\n",
              "  <tbody>\n",
              "  </tbody>\n",
              "</table><p>\n",
              "\n",
              "    <div>\n",
              "        <style>\n",
              "            /* Turns off some styling */\n",
              "            progress {\n",
              "                /* gets rid of default border in Firefox and Opera. */\n",
              "                border: none;\n",
              "                /* Needs to be in here for Safari polyfill so background images work as expected. */\n",
              "                background-size: auto;\n",
              "            }\n",
              "            .progress-bar-interrupted, .progress-bar-interrupted::-webkit-progress-bar {\n",
              "                background: #F44336;\n",
              "            }\n",
              "        </style>\n",
              "      <progress value='78' class='' max='121' style='width:300px; height:20px; vertical-align: middle;'></progress>\n",
              "      64.46% [78/121 00:04<00:02 0.1045]\n",
              "    </div>\n",
              "    "
            ],
            "text/plain": [
              "<IPython.core.display.HTML object>"
            ]
          },
          "metadata": {}
        },
        {
          "output_type": "stream",
          "name": "stderr",
          "text": [
            "/usr/local/lib/python3.7/dist-packages/numpy/core/_asarray.py:83: VisibleDeprecationWarning: Creating an ndarray from ragged nested sequences (which is a list-or-tuple of lists-or-tuples-or ndarrays with different lengths or shapes) is deprecated. If you meant to do this, you must specify 'dtype=object' when creating the ndarray\n",
            "  return array(a, dtype, copy=False, order=order)\n",
            "<string>:6: VisibleDeprecationWarning: Creating an ndarray from ragged nested sequences (which is a list-or-tuple of lists-or-tuples-or ndarrays with different lengths or shapes) is deprecated. If you meant to do this, you must specify 'dtype=object' when creating the ndarray\n"
          ]
        },
        {
          "output_type": "stream",
          "name": "stdout",
          "text": [
            "LR Finder is complete, type {learner_name}.recorder.plot() to see the graph.\n",
            "Min numerical gradient: 1.58E-06\n",
            "Min loss divided by 10: 1.45E-06\n"
          ]
        },
        {
          "output_type": "display_data",
          "data": {
            "image/png": "[encoded data removed]",
            "text/plain": [
              "<Figure size 432x288 with 1 Axes>"
            ]
          },
          "metadata": {
            "needs_background": "light"
          }
        }
      ]
    },
    {
      "cell_type": "markdown",
      "metadata": {
        "id": "ZyADkr6yTyG9"
      },
      "source": [
        "Testing the classification model on spam and non-spam examples."
      ]
    },
    {
      "cell_type": "code",
      "metadata": {
        "colab": {
          "base_uri": "https://localhost:8080/"
        },
        "id": "Y_KKaOnrTjHj",
        "outputId": "d3d7a293-f46b-4199-bf19-48a92d183450"
      },
      "source": [
        "# predict\n",
        "learn_classifier.predict('did you buy the groceries for dinner? :)')"
      ],
      "execution_count": null,
      "outputs": [
        {
          "output_type": "execute_result",
          "data": {
            "text/plain": [
              "(Category tensor(0), tensor(0), tensor([9.9991e-01, 9.0493e-05]))"
            ]
          },
          "metadata": {},
          "execution_count": 58
        }
      ]
    },
    {
      "cell_type": "code",
      "metadata": {
        "colab": {
          "base_uri": "https://localhost:8080/"
        },
        "id": "A8Xv4N9STjHj",
        "outputId": "281368de-2954-4f08-d0dd-1c6c4f088388"
      },
      "source": [
        "# predict\n",
        "learn_classifier.predict('Free entry call back now')"
      ],
      "execution_count": null,
      "outputs": [
        {
          "output_type": "execute_result",
          "data": {
            "text/plain": [
              "(Category tensor(1), tensor(1), tensor([0.3264, 0.6736]))"
            ]
          },
          "metadata": {},
          "execution_count": 59
        }
      ]
    },
    {
      "cell_type": "markdown",
      "metadata": {
        "id": "gcUOVjveT8Xu"
      },
      "source": [
        "Next we will evaluate on all of our validation data."
      ]
    },
    {
      "cell_type": "code",
      "metadata": {
        "id": "jkvU1PvTTjHj"
      },
      "source": [
        "# get predictions from validation\n",
        "valid_preds, valid_label=learn_classifier.get_preds(ds_type=DatasetType.Valid, ordered=True)\n",
        "valid_preds.shape"
      ],
      "execution_count": null,
      "outputs": []
    },
    {
      "cell_type": "markdown",
      "metadata": {
        "id": "xdo-uNjQfHat"
      },
      "source": [
        "Extracting actual labels of test data."
      ]
    },
    {
      "cell_type": "code",
      "metadata": {
        "id": "hJFv4ywTWw4F"
      },
      "source": [
        "tactual= [i.label for i in test] #Extracting true test labels\n",
        "tactual = torch.tensor(tactual)"
      ],
      "execution_count": null,
      "outputs": []
    },
    {
      "cell_type": "code",
      "metadata": {
        "colab": {
          "base_uri": "https://localhost:8080/",
          "height": 34
        },
        "id": "O8DvF0m1fMqR",
        "outputId": "be1eeeda-3f82-4dc9-ecb1-01246a28a933"
      },
      "source": [
        "# get predictions from Test uning ULMFiT model\n",
        "test_preds, _ = learn_classifier.get_preds(ds_type=DatasetType.Test, ordered=True)\n",
        "test_preds.shape"
      ],
      "execution_count": null,
      "outputs": [
        {
          "output_type": "display_data",
          "data": {
            "text/html": [
              ""
            ],
            "text/plain": [
              "<IPython.core.display.HTML object>"
            ]
          },
          "metadata": {}
        },
        {
          "output_type": "execute_result",
          "data": {
            "text/plain": [
              "torch.Size([1114, 2])"
            ]
          },
          "metadata": {},
          "execution_count": 62
        }
      ]
    },
    {
      "cell_type": "markdown",
      "metadata": {
        "id": "wsDXjUen4MLj"
      },
      "source": [
        "Test Accuracy of ULMFiT model"
      ]
    },
    {
      "cell_type": "code",
      "metadata": {
        "colab": {
          "base_uri": "https://localhost:8080/"
        },
        "id": "LhCrnAbqfOAc",
        "outputId": "370ecc30-9bb4-4981-c8a6-aa1644e71979"
      },
      "source": [
        "correct, total = 0,0\n",
        "pred = test_preds.max(1, keepdim=True)[1]\n",
        "correct += pred.eq(torch.tensor(tactual).view_as(pred)).sum().item()\n",
        "total += torch.tensor(tactual).shape[0]\n",
        "print('Testing Accuracy of ULMFiT model :',round(float(correct/total),5)*100,'%')"
      ],
      "execution_count": null,
      "outputs": [
        {
          "output_type": "stream",
          "name": "stdout",
          "text": [
            "Testing Accuracy of ULMFiT model : 98.115 %\n"
          ]
        },
        {
          "output_type": "stream",
          "name": "stderr",
          "text": [
            "/usr/local/lib/python3.7/dist-packages/ipykernel_launcher.py:3: UserWarning: To copy construct from a tensor, it is recommended to use sourceTensor.clone().detach() or sourceTensor.clone().detach().requires_grad_(True), rather than torch.tensor(sourceTensor).\n",
            "  This is separate from the ipykernel package so we can avoid doing imports until\n",
            "/usr/local/lib/python3.7/dist-packages/ipykernel_launcher.py:4: UserWarning: To copy construct from a tensor, it is recommended to use sourceTensor.clone().detach() or sourceTensor.clone().detach().requires_grad_(True), rather than torch.tensor(sourceTensor).\n",
            "  after removing the cwd from sys.path.\n"
          ]
        }
      ]
    },
    {
      "cell_type": "markdown",
      "metadata": {
        "id": "3DQ109_w4Qpj"
      },
      "source": [
        "Test accuracy using basic model"
      ]
    },
    {
      "cell_type": "code",
      "metadata": {
        "id": "Lw2YOWkMfPaL"
      },
      "source": [
        "test_iter = torchtext.legacy.data.BucketIterator(test,\n",
        "                                           batch_size=1,\n",
        "                                           sort_key=lambda x: len(x.sms), # to minimize padding\n",
        "                                           sort_within_batch=True,        # sort within each batch\n",
        "                                           repeat=False)  "
      ],
      "execution_count": null,
      "outputs": []
    },
    {
      "cell_type": "code",
      "metadata": {
        "colab": {
          "base_uri": "https://localhost:8080/"
        },
        "id": "khx4QO-3fQiX",
        "outputId": "eb17b245-4773-4d84-ed54-40cc0ce920b3"
      },
      "source": [
        "testacc = get_accuracy(model,test_iter,criterion=None)\n",
        "print('Testing Accuracy of Trained model:',round(testacc,5)*100,'%')"
      ],
      "execution_count": null,
      "outputs": [
        {
          "output_type": "stream",
          "name": "stdout",
          "text": [
            "Testing Accuracy of Trained model: 98.02499999999999 %\n"
          ]
        }
      ]
    },
    {
      "cell_type": "markdown",
      "metadata": {
        "id": "OqEFOVigfSGj"
      },
      "source": [
        "Extracting model's predicted labels from test data."
      ]
    },
    {
      "cell_type": "code",
      "metadata": {
        "id": "lQKfAu6ZfSao"
      },
      "source": [
        "t_pred = np.empty(len(test))\n",
        "i = 0\n",
        "\n",
        "correct,total = 0,0\n",
        "for data in test:\n",
        "  tokens = []\n",
        "  for c in data.sms:\n",
        "    tokens.append(torch.tensor(text_field.vocab.stoi[c]))\n",
        "  msg = torch.LongTensor([tokens])\n",
        "  tpred = model(msg)\n",
        "  t_pred[i] = tpred.max(1, keepdim=True)[1]\n",
        "  i += 1"
      ],
      "execution_count": null,
      "outputs": []
    },
    {
      "cell_type": "markdown",
      "source": [
        "## Evaluating the models"
      ],
      "metadata": {
        "id": "yFhGzRUcySmm"
      }
    },
    {
      "cell_type": "code",
      "metadata": {
        "id": "vuxLCHhFWw4F"
      },
      "source": [
        "from sklearn.metrics import confusion_matrix\n",
        "import seaborn as sns"
      ],
      "execution_count": null,
      "outputs": []
    },
    {
      "cell_type": "code",
      "metadata": {
        "colab": {
          "base_uri": "https://localhost:8080/"
        },
        "id": "yTSPYS2DfWGe",
        "outputId": "e6370668-a624-4925-f17c-9f5fc824164d"
      },
      "source": [
        "confusion_matrix(tactual,pred) #ULMFiT"
      ],
      "execution_count": null,
      "outputs": [
        {
          "output_type": "execute_result",
          "data": {
            "text/plain": [
              "array([[954,   0],\n",
              "       [ 21, 139]])"
            ]
          },
          "metadata": {},
          "execution_count": 68
        }
      ]
    },
    {
      "cell_type": "code",
      "metadata": {
        "colab": {
          "base_uri": "https://localhost:8080/"
        },
        "id": "-BuxDxrufXJZ",
        "outputId": "3d540ccc-4537-497e-f9be-771c678533c0"
      },
      "source": [
        "confusion_matrix(tactual,t_pred) #model from part A"
      ],
      "execution_count": null,
      "outputs": [
        {
          "output_type": "execute_result",
          "data": {
            "text/plain": [
              "array([[945,   9],\n",
              "       [ 13, 147]])"
            ]
          },
          "metadata": {},
          "execution_count": 69
        }
      ]
    },
    {
      "cell_type": "code",
      "metadata": {
        "colab": {
          "base_uri": "https://localhost:8080/",
          "height": 314
        },
        "id": "nuoQVdIwfYYe",
        "outputId": "1ee4a0cb-4bbb-4ce3-a750-3d06f6d687b5"
      },
      "source": [
        "cm_array = confusion_matrix(tactual,pred)\n",
        "df_cm = pd.DataFrame((cm_array/np.sum(cm_array,axis = 1)))\n",
        "sns.set(font_scale=1.4)\n",
        "sns.heatmap(df_cm, cmap='Blues',annot=True, annot_kws={\"size\": 16})\n",
        "plt.xlabel('Actual Label')\n",
        "plt.ylabel('Predicted Label')\n",
        "plt.title('ULMFiT model')\n",
        "plt.show()"
      ],
      "execution_count": null,
      "outputs": [
        {
          "output_type": "display_data",
          "data": {
            "image/png": "[encoded data removed]",
            "text/plain": [
              "<Figure size 432x288 with 2 Axes>"
            ]
          },
          "metadata": {}
        }
      ]
    },
    {
      "cell_type": "code",
      "metadata": {
        "colab": {
          "base_uri": "https://localhost:8080/",
          "height": 314
        },
        "id": "RH45PC5XfZys",
        "outputId": "dc527131-702d-4a56-90c6-814298f89209"
      },
      "source": [
        "cm_array = confusion_matrix(tactual,t_pred) \n",
        "df_cm = pd.DataFrame((cm_array/np.sum(cm_array,axis = 1)))\n",
        "sns.set(font_scale=1.4)\n",
        "sns.heatmap(df_cm, cmap='Blues',annot=True, annot_kws={\"size\": 16})\n",
        "plt.xlabel('Actual Label')\n",
        "plt.ylabel('Predicted Label')\n",
        "plt.title('Basic model from Part A')\n",
        "plt.show()"
      ],
      "execution_count": null,
      "outputs": [
        {
          "output_type": "display_data",
          "data": {
            "image/png": "[encoded data removed]",
            "text/plain": [
              "<Figure size 432x288 with 2 Axes>"
            ]
          },
          "metadata": {}
        }
      ]
    },
    {
      "cell_type": "markdown",
      "source": [
        "## Testing the models on real user data"
      ],
      "metadata": {
        "id": "41W0Y0aKyXzN"
      }
    },
    {
      "cell_type": "code",
      "metadata": {
        "id": "Ho0F4VMCnzXR",
        "colab": {
          "base_uri": "https://localhost:8080/"
        },
        "outputId": "7da7c300-06c7-4c5d-c779-6f165537a7c3"
      },
      "source": [
        "msg = \"machine learning is sooo cool!\"\n",
        "\n",
        "tokens = []\n",
        "\n",
        "for c in msg:\n",
        "  tokens.append(torch.tensor(text_field.vocab.stoi[c]))\n",
        "msg = torch.LongTensor([tokens])\n",
        "pred = model(msg)\n",
        "prob = F.softmax(pred,dim = 1)\n",
        "f'The probability that the given message is spam is:',float(prob[0][1])"
      ],
      "execution_count": null,
      "outputs": [
        {
          "output_type": "execute_result",
          "data": {
            "text/plain": [
              "('The probability that the given message is spam is:', 0.0015399408293887973)"
            ]
          },
          "metadata": {},
          "execution_count": 72
        }
      ]
    },
    {
      "cell_type": "code",
      "metadata": {
        "id": "y3DCyMW_n05f"
      },
      "source": [
        "def test_msg(msg):\n",
        "  tokens = []\n",
        "  for c in msg:\n",
        "    tokens.append(torch.tensor(text_field.vocab.stoi[c]))\n",
        "  msg = torch.LongTensor([tokens])\n",
        "  pred = model(msg)\n",
        "  prob = F.softmax(pred,dim = 1)[0][1]\n",
        "  return round(float(prob),4)*100"
      ],
      "execution_count": null,
      "outputs": []
    },
    {
      "cell_type": "code",
      "metadata": {
        "colab": {
          "base_uri": "https://localhost:8080/"
        },
        "id": "lRdV_Xmepo50",
        "outputId": "50411852-c8a0-482e-bdb6-5e81fb4f4e55"
      },
      "source": [
        "spam1 = \"We have finally succeeded in getting your  funds worth of $10.8Million Us Dollars, enter your ATM MASTER CARD details\"\n",
        "print('Probability of spam with ULMFiT model: ',np.array(learn_classifier.predict(spam1)[2][1])*100,'%')\n",
        "print('Probability of spam with Part A model: ',test_msg(spam1),'%')"
      ],
      "execution_count": null,
      "outputs": [
        {
          "output_type": "stream",
          "name": "stdout",
          "text": [
            "Probability of spam with ULMFiT model:  44.31866109371185 %\n",
            "Probability of spam with Part A model:  4.590000000000001 %\n"
          ]
        }
      ]
    },
    {
      "cell_type": "code",
      "metadata": {
        "colab": {
          "base_uri": "https://localhost:8080/"
        },
        "id": "WpTQyNp_pp_M",
        "outputId": "036f5376-f3a7-4beb-945b-3d32721197ce"
      },
      "source": [
        "spam2 = \"you were listed as a beneficiary of(£500,000.00 GBPS) From COCACOLA COMOANY UK Send Ur Full Names Adds Age Mobile No A/C No\"\n",
        "print('Probability of spam with ULMFiT model: ',np.array(learn_classifier.predict(spam2)[2][1])*100,'%')\n",
        "print('Probability of spam with Part A model: ',test_msg(spam2),'%')"
      ],
      "execution_count": null,
      "outputs": [
        {
          "output_type": "stream",
          "name": "stdout",
          "text": [
            "Probability of spam with ULMFiT model:  32.47723579406738 %\n",
            "Probability of spam with Part A model:  99.97 %\n"
          ]
        }
      ]
    },
    {
      "cell_type": "code",
      "metadata": {
        "colab": {
          "base_uri": "https://localhost:8080/"
        },
        "id": "PGY4vBDKprbK",
        "outputId": "023968ba-8444-4315-851f-28600ddd54c5"
      },
      "source": [
        "spam3 = \"Free entry passes for abu dhabi GP. click on the link below for more details\"\n",
        "print('Probability of spam with ULMFiT model: ',np.array(learn_classifier.predict(spam3)[2][1])*100,'%')\n",
        "print('Probability of spam with Part A model: ',test_msg(spam3),'%')"
      ],
      "execution_count": null,
      "outputs": [
        {
          "output_type": "stream",
          "name": "stdout",
          "text": [
            "Probability of spam with ULMFiT model:  92.67058372497559 %\n",
            "Probability of spam with Part A model:  0.67 %\n"
          ]
        }
      ]
    },
    {
      "cell_type": "code",
      "metadata": {
        "colab": {
          "base_uri": "https://localhost:8080/"
        },
        "id": "qgrvB7MWpsiC",
        "outputId": "98cad70f-6c52-4b7f-fb00-23ce6b2ea3a8"
      },
      "source": [
        "spam4 = \"1.3 million salesforce job vacancies - Learn it and grab a high pay job - Register now to know more - https://bit.ly/3qisGYU\"\n",
        "print('Probability of spam with ULMFiT model: ',np.array(learn_classifier.predict(spam4)[2][1])*100,'%')\n",
        "print('Probability of spam with Part A model: ',test_msg(spam4),'%')"
      ],
      "execution_count": null,
      "outputs": [
        {
          "output_type": "stream",
          "name": "stdout",
          "text": [
            "Probability of spam with ULMFiT model:  20.100662112236023 %\n",
            "Probability of spam with Part A model:  99.78 %\n"
          ]
        }
      ]
    },
    {
      "cell_type": "code",
      "metadata": {
        "colab": {
          "base_uri": "https://localhost:8080/"
        },
        "id": "bybeTL37ptu6",
        "outputId": "0577662b-071f-4ff8-b14d-a75c3556904e"
      },
      "source": [
        "spam5 = \"Congragulations!!!! you are the bonanza lucky draw winner. Click the below link to get $25000 cash prize\"\n",
        "print('Probability of spam with ULMFiT model: ',np.array(learn_classifier.predict(spam5)[2][1])*100,'%')\n",
        "print('Probability of spam with Part A model: ',test_msg(spam5),'%')"
      ],
      "execution_count": null,
      "outputs": [
        {
          "output_type": "stream",
          "name": "stdout",
          "text": [
            "Probability of spam with ULMFiT model:  57.97547101974487 %\n",
            "Probability of spam with Part A model:  99.88 %\n"
          ]
        }
      ]
    },
    {
      "cell_type": "code",
      "metadata": {
        "id": "0OvvnW8OWw4G"
      },
      "source": [
        "def test_msg(msg):\n",
        "  tokens = []\n",
        "  for c in msg:\n",
        "    tokens.append(torch.tensor(text_field.vocab.stoi[c]))\n",
        "  msg = torch.LongTensor([tokens])\n",
        "  pred = model(msg)\n",
        "  prob = F.softmax(pred,dim = 1)[0][0]\n",
        "  return round(float(prob),4)*100"
      ],
      "execution_count": null,
      "outputs": []
    },
    {
      "cell_type": "code",
      "metadata": {
        "colab": {
          "base_uri": "https://localhost:8080/"
        },
        "id": "xWlBS3UqpwX1",
        "outputId": "70132f25-a56c-4753-8497-986c3a7ce26e"
      },
      "source": [
        "ham1 ='One of our customer service executives will get in touch with you, thank you for your patience'\n",
        "print('Probability of non spam with ULMFiT model: ',np.array(learn_classifier.predict(ham1)[2][0])*100,'%')\n",
        "print('Probability of non spam with Part A model: ',test_msg(ham1),'%')"
      ],
      "execution_count": null,
      "outputs": [
        {
          "output_type": "stream",
          "name": "stdout",
          "text": [
            "Probability of non spam with ULMFiT model:  96.03855013847351 %\n",
            "Probability of non spam with Part A model:  99.96000000000001 %\n"
          ]
        }
      ]
    },
    {
      "cell_type": "code",
      "metadata": {
        "colab": {
          "base_uri": "https://localhost:8080/"
        },
        "id": "A7Y4JWERpxn9",
        "outputId": "a86bd35d-764d-420a-eb40-5b95cfa3417d"
      },
      "source": [
        "ham2= 'Your account has been logged-in in a different device, please confirm whether its you'\n",
        "print('Probability of non spam with ULMFiT model: ',np.array(learn_classifier.predict(ham2)[2][0])*100,'%')\n",
        "print('Probability of non spam with Part A model: ',test_msg(ham2),'%')"
      ],
      "execution_count": null,
      "outputs": [
        {
          "output_type": "stream",
          "name": "stdout",
          "text": [
            "Probability of non spam with ULMFiT model:  84.43905711174011 %\n",
            "Probability of non spam with Part A model:  99.9 %\n"
          ]
        }
      ]
    },
    {
      "cell_type": "code",
      "metadata": {
        "colab": {
          "base_uri": "https://localhost:8080/"
        },
        "id": "grxlyvptpyx3",
        "outputId": "95420c57-781f-47e1-e7c5-b4870e3e688e"
      },
      "source": [
        "ham3 = 'Please prepare the study material for week 12 by 22nd November'\n",
        "print('Probability of non spam with ULMFiT model: ',np.array(learn_classifier.predict(ham3)[2][0])*100,'%')\n",
        "print('Probability of non spam with Part A model: ',test_msg(ham3),'%')"
      ],
      "execution_count": null,
      "outputs": [
        {
          "output_type": "stream",
          "name": "stdout",
          "text": [
            "Probability of non spam with ULMFiT model:  46.202552318573 %\n",
            "Probability of non spam with Part A model:  99.03999999999999 %\n"
          ]
        }
      ]
    },
    {
      "cell_type": "code",
      "metadata": {
        "colab": {
          "base_uri": "https://localhost:8080/"
        },
        "id": "3rx9SayBpz9C",
        "outputId": "19896284-a8cb-4e42-c834-2b48fc60fdc4"
      },
      "source": [
        "ham4 = 'Your parcel had shipped to the local warehouse, will be delivered to you in 3 business days'\n",
        "print('Probability of non spam with ULMFiT model: ',np.array(learn_classifier.predict(ham4)[2][0])*100,'%')\n",
        "print('Probability of non spam with Part A model: ',test_msg(ham4),'%')"
      ],
      "execution_count": null,
      "outputs": [
        {
          "output_type": "stream",
          "name": "stdout",
          "text": [
            "Probability of non spam with ULMFiT model:  94.39859986305237 %\n",
            "Probability of non spam with Part A model:  99.85000000000001 %\n"
          ]
        }
      ]
    },
    {
      "cell_type": "code",
      "metadata": {
        "colab": {
          "base_uri": "https://localhost:8080/"
        },
        "id": "PAwNZUSep1DR",
        "outputId": "7254ff3e-8c29-43cd-b4b6-a3c827be5fc6"
      },
      "source": [
        "ham5 = 'Graduate seminar series by stanford online learning is going to be held on 2nd December'\n",
        "print('Probability of non spam with ULMFiT model: ',np.array(learn_classifier.predict(ham5)[2][0])*100,'%')\n",
        "print('Probability of non spam with Part A model: ',test_msg(ham5),'%')"
      ],
      "execution_count": null,
      "outputs": [
        {
          "output_type": "stream",
          "name": "stdout",
          "text": [
            "Probability of non spam with ULMFiT model:  98.44552278518677 %\n",
            "Probability of non spam with Part A model:  99.92999999999999 %\n"
          ]
        }
      ]
    }
  ]
}